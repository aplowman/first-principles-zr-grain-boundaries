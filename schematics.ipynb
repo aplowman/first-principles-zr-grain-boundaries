{
 "cells": [
  {
   "cell_type": "code",
   "execution_count": 1,
   "metadata": {},
   "outputs": [],
   "source": [
    "%load_ext autoreload\n",
    "%autoreload 2"
   ]
  },
  {
   "cell_type": "markdown",
   "metadata": {},
   "source": [
    "# Supercell schematics"
   ]
  },
  {
   "cell_type": "code",
   "execution_count": 2,
   "metadata": {},
   "outputs": [],
   "source": [
    "import numpy as np\n",
    "\n",
    "from utilities import make_structure, get_simulated_bicrystal\n",
    "\n",
    "from atomistic import ATOM_JMOL_COLOURS"
   ]
  },
  {
   "cell_type": "code",
   "execution_count": 3,
   "metadata": {},
   "outputs": [],
   "source": [
    "bc = make_structure('s7-tlA-gb', configuration='minimum_energy')\n",
    "bc.swap_crystal_sites()"
   ]
  },
  {
   "cell_type": "code",
   "execution_count": 4,
   "metadata": {
    "code_folding": []
   },
   "outputs": [
    {
     "data": {
      "application/vnd.jupyter.widget-view+json": {
       "model_id": "c2d519a9755149f6ad7b960e031147f0",
       "version_major": 2,
       "version_minor": 0
      },
      "text/plain": [
       "FigureWidget({\n",
       "    'data': [{'mode': 'lines',\n",
       "              'name': 'supercell',\n",
       "              'type': 'scatte…"
      ]
     },
     "metadata": {},
     "output_type": "display_data"
    }
   ],
   "source": [
    "group_points = {\n",
    "    'atoms': [\n",
    "        {\n",
    "            'label': 'crystal_idx',\n",
    "            'styles': {\n",
    "                'outline_colour': {\n",
    "                    0: 'rgb(228,26,28)',\n",
    "                    1: 'rgb(55,126,184)',\n",
    "                },\n",
    "            },\n",
    "        },\n",
    "        {\n",
    "            'label': 'species',\n",
    "            'styles': {\n",
    "                'fill_colour': {\n",
    "                    'Zr': 'rgb({}, {}, {})'.format(*ATOM_JMOL_COLOURS['Zr'])\n",
    "                }\n",
    "            }\n",
    "        },\n",
    "    ],\n",
    "}\n",
    "style_points = {\n",
    "    'atoms': {\n",
    "        'marker_size': 10,\n",
    "        'outline_size': 10,\n",
    "    },\n",
    "}\n",
    "bc.show(\n",
    "    group_points=group_points,\n",
    "    style_points=style_points,\n",
    "    include={'points': 'atoms'},\n",
    "    layout_args={\n",
    "        'height': 800,\n",
    "    }\n",
    ")"
   ]
  },
  {
   "cell_type": "code",
   "execution_count": 5,
   "metadata": {
    "scrolled": false
   },
   "outputs": [
    {
     "data": {
      "application/vnd.jupyter.widget-view+json": {
       "model_id": "74aecc734062416aba52dcd04a3ef7ab",
       "version_major": 2,
       "version_minor": 0
      },
      "text/plain": [
       "FigureWidget({\n",
       "    'data': [{'mode': 'lines',\n",
       "              'name': 'supercell',\n",
       "              'type': 'scatte…"
      ]
     },
     "metadata": {},
     "output_type": "display_data"
    }
   ],
   "source": [
    "group_points = {\n",
    "    'atoms': [\n",
    "        {\n",
    "            'label': 'crystal_idx',\n",
    "            'styles': {\n",
    "                'outline_colour': {\n",
    "                    0: 'rgb(228,26,28)',\n",
    "                    1: 'rgb(55,126,184)',\n",
    "                },\n",
    "            },\n",
    "        },\n",
    "    ],\n",
    "}\n",
    "style_points = {\n",
    "    'atoms': {\n",
    "        'fill_colour': '<<projection_depth>>',\n",
    "        'fill_colour_max': '<<projection_depth_max>>',\n",
    "        'fill_colour_min': '<<projection_depth_min>>',\n",
    "        'fill_colourscale': 'Greys',\n",
    "        'marker_size': 10,\n",
    "        'outline_size': 10,\n",
    "    },\n",
    "}\n",
    "bc.preview_projection(\n",
    "    look_at=[1, 0, 0],\n",
    "    up=bc.supercell[:, bc.non_boundary_idx],\n",
    "    group_points=group_points,\n",
    "    style_points=style_points,\n",
    "    include={'points': ['atoms']},\n",
    "    layout_args={\n",
    "        'height': 800,\n",
    "    }\n",
    ")"
   ]
  },
  {
   "cell_type": "code",
   "execution_count": 6,
   "metadata": {
    "scrolled": false
   },
   "outputs": [
    {
     "name": "stdout",
     "output_type": "stream",
     "text": [
      "projected_verts[atoms]: \n",
      "minn: [ 0.03888347  1.40399492 -0.33333333  1.        ]\n",
      "maxx: [ 6.77162878 60.55753173  0.66666667  1.        ]\n"
     ]
    },
    {
     "data": {
      "application/vnd.jupyter.widget-view+json": {
       "model_id": "87834aa0c5c74e34bb51668bf3c6473a",
       "version_major": 2,
       "version_minor": 0
      },
      "text/plain": [
       "FigureWidget({\n",
       "    'data': [{'mode': 'lines',\n",
       "              'name': 'supercell',\n",
       "              'type': 'scatte…"
      ]
     },
     "metadata": {},
     "output_type": "display_data"
    }
   ],
   "source": [
    "style_points['atoms'].update({\n",
    "    'outline_size': 1,\n",
    "    'marker_size': 14,\n",
    "})\n",
    "bc.show_projection(\n",
    "    look_at=[1, 0, 0],\n",
    "    up=bc.supercell[:, bc.non_boundary_idx],\n",
    "    group_points=group_points,\n",
    "    style_points=style_points,\n",
    "    include={'points': ['atoms']},\n",
    "    layout_args={\n",
    "        'width': 600,\n",
    "        'height': 800,\n",
    "    }\n",
    ")"
   ]
  },
  {
   "cell_type": "code",
   "execution_count": null,
   "metadata": {},
   "outputs": [],
   "source": []
  }
 ],
 "metadata": {
  "hide_input": false,
  "kernelspec": {
   "display_name": "zr_gb_papers_venv",
   "language": "python",
   "name": "zr_gb_papers_venv"
  },
  "language_info": {
   "codemirror_mode": {
    "name": "ipython",
    "version": 3
   },
   "file_extension": ".py",
   "mimetype": "text/x-python",
   "name": "python",
   "nbconvert_exporter": "python",
   "pygments_lexer": "ipython3",
   "version": "3.7.2"
  },
  "toc": {
   "base_numbering": 1,
   "nav_menu": {},
   "number_sections": true,
   "sideBar": true,
   "skip_h1_title": false,
   "title_cell": "Table of Contents",
   "title_sidebar": "Contents",
   "toc_cell": false,
   "toc_position": {},
   "toc_section_display": true,
   "toc_window_display": false
  }
 },
 "nbformat": 4,
 "nbformat_minor": 2
}
