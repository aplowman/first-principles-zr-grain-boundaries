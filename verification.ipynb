{
 "cells": [
  {
   "cell_type": "code",
   "execution_count": 1,
   "metadata": {},
   "outputs": [],
   "source": [
    "%load_ext autoreload\n",
    "%autoreload 2"
   ]
  },
  {
   "cell_type": "code",
   "execution_count": 2,
   "metadata": {},
   "outputs": [],
   "source": [
    "from pathlib import Path\n",
    "\n",
    "from castep_parse import read_cell_file\n",
    "import numpy as np\n",
    "\n",
    "from utilities import decompress_file"
   ]
  },
  {
   "cell_type": "code",
   "execution_count": 3,
   "metadata": {
    "code_folding": [
     0
    ]
   },
   "outputs": [],
   "source": [
    "def verify_castep_cell_with_atomistic_structure(cell_file, structure):\n",
    "    \"\"\"Verify the atoms and supercell listed in a CASTEP cell file are\n",
    "    equivalent to those of an AtomisticStructure.\"\"\"\n",
    "    \n",
    "    cst_cell = read_cell_file(cell_file)\n",
    "        \n",
    "    # Supercell:\n",
    "    cst_supercell = cst_cell['supercell']\n",
    "    struct_supercell = structure.supercell    \n",
    "    assert np.allclose(cst_supercell, struct_supercell)\n",
    "    \n",
    "    # Atoms:\n",
    "    struct_atoms_srt_idx = np.lexsort(np.round(structure.atoms.coords, decimals=9))\n",
    "    struct_atoms = structure.atoms.coords[:, struct_atoms_srt_idx]\n",
    "    \n",
    "    \n",
    "    cst_atoms_srt_idx = np.lexsort(np.round(cst_cell['atom_sites'], decimals=9))\n",
    "    cst_atoms = cst_cell['atom_sites'][:, cst_atoms_srt_idx]\n",
    "    \n",
    "    # Wrap atoms to within the supercell:    \n",
    "    struct_atoms_sup = np.linalg.inv(struct_supercell) @ struct_atoms\n",
    "    cst_atoms_sup = np.linalg.inv(cst_supercell) @ cst_atoms\n",
    "    \n",
    "    boundary_idx = structure.boundary_idx\n",
    "    struct_atoms_sup[boundary_idx] -= np.floor(struct_atoms_sup[boundary_idx])\n",
    "    cst_atoms_sup[boundary_idx] -= np.floor(cst_atoms_sup[boundary_idx])\n",
    "    \n",
    "    bad_atoms_idx = np.where(np.abs(cst_atoms_sup - struct_atoms_sup) > 1e-6)[1]\n",
    "    \n",
    "    assert np.allclose(struct_atoms_sup, cst_atoms_sup)\n"
   ]
  },
  {
   "cell_type": "markdown",
   "metadata": {},
   "source": [
    "## Ab-initio tensile tests"
   ]
  },
  {
   "cell_type": "code",
   "execution_count": 4,
   "metadata": {},
   "outputs": [],
   "source": [
    "from tensile_test import get_tensile_test, show_traction_separation"
   ]
  },
  {
   "cell_type": "markdown",
   "metadata": {},
   "source": [
    "**s7-tw-b-a1**"
   ]
  },
  {
   "cell_type": "code",
   "execution_count": 5,
   "metadata": {},
   "outputs": [],
   "source": [
    "tt = get_tensile_test('s7-tw-b-a1')\n",
    "test_input_structure = tt.get_coordinate(2.1).structure"
   ]
  },
  {
   "cell_type": "code",
   "execution_count": 6,
   "metadata": {},
   "outputs": [],
   "source": [
    "cell_path_compressed = Path('data/ab_initio_tensile_tests/rgs-s7-tw-b-a1/16_+2.100/sim.cell.xz')\n",
    "cell_file = decompress_file(cell_path_compressed)"
   ]
  },
  {
   "cell_type": "code",
   "execution_count": 7,
   "metadata": {},
   "outputs": [],
   "source": [
    "verify_castep_cell_with_atomistic_structure(cell_file, test_input_structure)"
   ]
  },
  {
   "cell_type": "markdown",
   "metadata": {},
   "source": [
    "**s7-tlA-gb-a1**"
   ]
  },
  {
   "cell_type": "code",
   "execution_count": 8,
   "metadata": {},
   "outputs": [],
   "source": [
    "tt = get_tensile_test('s7-tlA-gb-a1')\n",
    "test_input_structure = tt.get_coordinate(1.5).structure"
   ]
  },
  {
   "cell_type": "code",
   "execution_count": 9,
   "metadata": {},
   "outputs": [],
   "source": [
    "cell_path_compressed = Path('data/ab_initio_tensile_tests/rgs-s7-tlA-gb-a1/03_+1.500/sim.cell.xz')\n",
    "cell_file = decompress_file(cell_path_compressed)"
   ]
  },
  {
   "cell_type": "code",
   "execution_count": 10,
   "metadata": {},
   "outputs": [],
   "source": [
    "verify_castep_cell_with_atomistic_structure(cell_file, test_input_structure)"
   ]
  },
  {
   "cell_type": "code",
   "execution_count": null,
   "metadata": {},
   "outputs": [],
   "source": []
  }
 ],
 "metadata": {
  "hide_input": false,
  "kernelspec": {
   "display_name": "zr_gb_papers_venv",
   "language": "python",
   "name": "zr_gb_papers_venv"
  },
  "language_info": {
   "codemirror_mode": {
    "name": "ipython",
    "version": 3
   },
   "file_extension": ".py",
   "mimetype": "text/x-python",
   "name": "python",
   "nbconvert_exporter": "python",
   "pygments_lexer": "ipython3",
   "version": "3.7.2"
  },
  "toc": {
   "base_numbering": 1,
   "nav_menu": {},
   "number_sections": true,
   "sideBar": true,
   "skip_h1_title": false,
   "title_cell": "Table of Contents",
   "title_sidebar": "Contents",
   "toc_cell": false,
   "toc_position": {},
   "toc_section_display": true,
   "toc_window_display": false
  }
 },
 "nbformat": 4,
 "nbformat_minor": 2
}
