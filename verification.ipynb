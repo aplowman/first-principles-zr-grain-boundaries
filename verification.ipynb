{
 "cells": [
  {
   "cell_type": "code",
   "execution_count": 1,
   "metadata": {},
   "outputs": [],
   "source": [
    "%load_ext autoreload\n",
    "%autoreload 2"
   ]
  },
  {
   "cell_type": "code",
   "execution_count": 2,
   "metadata": {},
   "outputs": [],
   "source": [
    "from pathlib import Path\n",
    "\n",
    "from castep_parse import read_cell_file, read_geom_file, read_castep_file\n",
    "import numpy as np\n",
    "\n",
    "from utilities import decompress_file"
   ]
  },
  {
   "cell_type": "code",
   "execution_count": 3,
   "metadata": {
    "code_folding": [
     0
    ]
   },
   "outputs": [],
   "source": [
    "def verify_castep_cell_with_atomistic_structure(cell_file, structure):\n",
    "    \"\"\"Verify the atoms and supercell listed in a CASTEP cell file are\n",
    "    equivalent to those of an AtomisticStructure.\"\"\"\n",
    "    \n",
    "    cst_cell = read_cell_file(cell_file)\n",
    "        \n",
    "    # Supercell:\n",
    "    cst_supercell = cst_cell['supercell']\n",
    "    struct_supercell = structure.supercell    \n",
    "    assert np.allclose(cst_supercell, struct_supercell)\n",
    "    \n",
    "    # Atoms:\n",
    "    struct_atoms_srt_idx = np.lexsort(np.round(structure.atoms.coords, decimals=9))\n",
    "    struct_atoms = structure.atoms.coords[:, struct_atoms_srt_idx]\n",
    "    \n",
    "    \n",
    "    cst_atoms_srt_idx = np.lexsort(np.round(cst_cell['atom_sites'], decimals=9))\n",
    "    cst_atoms = cst_cell['atom_sites'][:, cst_atoms_srt_idx]\n",
    "    \n",
    "    # Wrap atoms to within the supercell:    \n",
    "    struct_atoms_sup = np.linalg.inv(struct_supercell) @ struct_atoms\n",
    "    cst_atoms_sup = np.linalg.inv(cst_supercell) @ cst_atoms\n",
    "    \n",
    "    boundary_idx = structure.boundary_idx\n",
    "    struct_atoms_sup[boundary_idx] -= np.floor(struct_atoms_sup[boundary_idx])\n",
    "    cst_atoms_sup[boundary_idx] -= np.floor(cst_atoms_sup[boundary_idx])\n",
    "    \n",
    "    bad_atoms_idx = np.where(np.abs(cst_atoms_sup - struct_atoms_sup) > 1e-6)[1]\n",
    "    \n",
    "    assert np.allclose(struct_atoms_sup, cst_atoms_sup)\n"
   ]
  },
  {
   "cell_type": "markdown",
   "metadata": {
    "heading_collapsed": true
   },
   "source": [
    "## Ab-initio tensile tests"
   ]
  },
  {
   "cell_type": "code",
   "execution_count": 3,
   "metadata": {
    "hidden": true
   },
   "outputs": [],
   "source": [
    "from tensile_test import get_tensile_test, show_traction_separation"
   ]
  },
  {
   "cell_type": "markdown",
   "metadata": {
    "hidden": true
   },
   "source": [
    "**s7-tw-b-a1**"
   ]
  },
  {
   "cell_type": "code",
   "execution_count": 4,
   "metadata": {
    "hidden": true
   },
   "outputs": [
    {
     "name": "stdout",
     "output_type": "stream",
     "text": [
      "Geometry optimisation finished in run 0\n"
     ]
    }
   ],
   "source": [
    "tt = get_tensile_test('s7-tw-b-a1')\n",
    "test_input_structure = tt.get_coordinate(2.1).structure"
   ]
  },
  {
   "cell_type": "code",
   "execution_count": 5,
   "metadata": {
    "hidden": true
   },
   "outputs": [],
   "source": [
    "cell_path_compressed = Path('data/ab_initio_tensile_tests/rgs-s7-tw-b-a1/16_+2.100/sim.cell.xz')\n",
    "cell_file = decompress_file(cell_path_compressed)"
   ]
  },
  {
   "cell_type": "code",
   "execution_count": 6,
   "metadata": {
    "hidden": true
   },
   "outputs": [],
   "source": [
    "verify_castep_cell_with_atomistic_structure(cell_file, test_input_structure)"
   ]
  },
  {
   "cell_type": "markdown",
   "metadata": {
    "hidden": true
   },
   "source": [
    "**s7-tlA-gb-a1**"
   ]
  },
  {
   "cell_type": "code",
   "execution_count": 7,
   "metadata": {
    "hidden": true
   },
   "outputs": [
    {
     "name": "stdout",
     "output_type": "stream",
     "text": [
      "Geometry optimisation finished in run 1\n"
     ]
    }
   ],
   "source": [
    "tt = get_tensile_test('s7-tlA-gb-a1')\n",
    "test_input_structure = tt.get_coordinate(1.5).structure"
   ]
  },
  {
   "cell_type": "code",
   "execution_count": 8,
   "metadata": {
    "hidden": true
   },
   "outputs": [],
   "source": [
    "cell_path_compressed = Path('data/ab_initio_tensile_tests/rgs-s7-tlA-gb-a1/03_+1.500/sim.cell.xz')\n",
    "cell_file = decompress_file(cell_path_compressed)"
   ]
  },
  {
   "cell_type": "code",
   "execution_count": 9,
   "metadata": {
    "hidden": true
   },
   "outputs": [],
   "source": [
    "verify_castep_cell_with_atomistic_structure(cell_file, test_input_structure)"
   ]
  },
  {
   "cell_type": "markdown",
   "metadata": {
    "hidden": true
   },
   "source": [
    "\n",
    "## Compare `make_structure` and `get_simulated_bicrystal`"
   ]
  },
  {
   "cell_type": "code",
   "execution_count": 6,
   "metadata": {
    "hidden": true
   },
   "outputs": [],
   "source": [
    "from utilities import make_structure, get_simulated_bicrystal, get_simulation"
   ]
  },
  {
   "cell_type": "code",
   "execution_count": 7,
   "metadata": {
    "hidden": true
   },
   "outputs": [
    {
     "name": "stdout",
     "output_type": "stream",
     "text": [
      "Geometry optimisation finished in run 0\n",
      "supercells are the same.\n"
     ]
    },
    {
     "data": {
      "text/plain": [
       "True"
      ]
     },
     "execution_count": 7,
     "metadata": {},
     "output_type": "execute_result"
    }
   ],
   "source": [
    "structure_code = 's7-tlA-fs'\n",
    "bicrystal_1 = make_structure(structure_code, 'minimum_energy')\n",
    "bicrystal_2 = get_simulated_bicrystal(structure_code, opt_idx=0)\n",
    "bicrystal_1.same_atoms(bicrystal_2)"
   ]
  },
  {
   "cell_type": "markdown",
   "metadata": {},
   "source": [
    "## Compare structure in `get_simulated_bicrystal` and `get_simulation`"
   ]
  },
  {
   "cell_type": "code",
   "execution_count": 4,
   "metadata": {},
   "outputs": [],
   "source": [
    "from utilities import make_structure, get_simulated_bicrystal, get_simulation"
   ]
  },
  {
   "cell_type": "markdown",
   "metadata": {},
   "source": [
    "### Initial"
   ]
  },
  {
   "cell_type": "code",
   "execution_count": 10,
   "metadata": {},
   "outputs": [],
   "source": [
    "structure_code = 's7-tlA-b'"
   ]
  },
  {
   "cell_type": "code",
   "execution_count": 11,
   "metadata": {},
   "outputs": [
    {
     "name": "stdout",
     "output_type": "stream",
     "text": [
      "Geometry optimisation finished in run 0\n",
      "get_simulated_bicrystal: atoms same?: True\n"
     ]
    }
   ],
   "source": [
    "opt_idx = -1\n",
    "\n",
    "structure = get_simulated_bicrystal(structure_code, opt_idx=opt_idx)\n",
    "atoms_1 = structure.atoms.coords\n",
    "srt_idx_1 = np.lexsort(np.round(atoms_1, decimals=8))\n",
    "atoms_1_srt = atoms_1[:, srt_idx_1]\n",
    "\n",
    "# geom_dat = read_geom_file(r\"D:\\phd\\calc_dirs_2018.11.29\\calcs\\calcs\\2018-01-30-1632_67391\\calcs\\1_1_3\\defects\\b-a1\\sim.geom\")\n",
    "# atoms_2 = geom_dat['atoms'][opt_idx]\n",
    "# srt_idx_2 = np.lexsort(np.round(atoms_2, decimals=8))\n",
    "# atoms_2_srt = atoms_2[:, srt_idx_2]\n",
    "\n",
    "# np.allclose(atoms_1_srt, atoms_2_srt)"
   ]
  },
  {
   "cell_type": "code",
   "execution_count": 12,
   "metadata": {},
   "outputs": [
    {
     "name": "stdout",
     "output_type": "stream",
     "text": [
      "Geometry optimisation finished in run 0\n",
      "A get_simulation: atoms[-1, :, 41] \n",
      "[ 1.2910227  32.34947686 44.05115531]\n",
      "\n"
     ]
    }
   ],
   "source": [
    "gb_sim = get_simulation(structure_code)\n",
    "sim_structure = gb_sim.get_step(opt_step=opt_idx)['structure']\n",
    "\n",
    "atoms_3 = sim_structure.atoms.coords\n",
    "srt_idx_3 = np.lexsort(np.round(atoms_3, decimals=8))\n",
    "atoms_3_srt = atoms_3[:, srt_idx_3]"
   ]
  },
  {
   "cell_type": "code",
   "execution_count": 13,
   "metadata": {},
   "outputs": [
    {
     "name": "stdout",
     "output_type": "stream",
     "text": [
      "Geometry optimisation finished in run 0\n",
      "A get_simulation: atoms[-1, :, 41] \n",
      "[ 1.2910227  32.34947686 44.05115531]\n",
      "\n"
     ]
    },
    {
     "data": {
      "text/plain": [
       "True"
      ]
     },
     "execution_count": 13,
     "metadata": {},
     "output_type": "execute_result"
    }
   ],
   "source": [
    "gb_sim = get_simulation(structure_code)\n",
    "sim_structure = gb_sim.get_step(opt_step=opt_idx)['structure']\n",
    "\n",
    "atoms_3 = sim_structure.atoms.coords\n",
    "srt_idx_3 = np.lexsort(np.round(atoms_3, decimals=8))\n",
    "atoms_3_srt = atoms_3[:, srt_idx_3]\n",
    "\n",
    "np.allclose(atoms_1_srt, atoms_3_srt)"
   ]
  },
  {
   "cell_type": "code",
   "execution_count": null,
   "metadata": {},
   "outputs": [],
   "source": []
  },
  {
   "cell_type": "markdown",
   "metadata": {},
   "source": [
    "### Final"
   ]
  },
  {
   "cell_type": "code",
   "execution_count": 18,
   "metadata": {},
   "outputs": [],
   "source": [
    "from castep_parse import read_castep_file, read_geom_file, read_cell_file, merge_output_data"
   ]
  },
  {
   "cell_type": "code",
   "execution_count": 21,
   "metadata": {
    "scrolled": false
   },
   "outputs": [
    {
     "name": "stdout",
     "output_type": "stream",
     "text": [
      "Geometry optimisation finished in run 1\n",
      "Geometry optimisation finished in run 1\n",
      "no atoms in geom iter!\n",
      "structure reversion?\n"
     ]
    },
    {
     "data": {
      "text/plain": [
       "False"
      ]
     },
     "execution_count": 21,
     "metadata": {},
     "output_type": "execute_result"
    }
   ],
   "source": [
    "opt_idx = 0\n",
    "\n",
    "cp = Path(r\"D:\\phd\\calc_dirs_2018.11.29\\calcs\\calcs\\2018-01-30-1632_67391\\calcs\\1_1_3\\defects\\b-a1\\sim.castep\")\n",
    "gp = Path(r\"D:\\phd\\calc_dirs_2018.11.29\\calcs\\calcs\\2018-01-30-1632_67391\\calcs\\1_1_3\\defects\\b-a1\\sim.geom\")\n",
    "ce = Path(r\"D:\\phd\\calc_dirs_2018.11.29\\calcs\\calcs\\2018-01-30-1632_67391\\calcs\\1_1_3\\defects\\b-a1\\sim.cell\")\n",
    "\n",
    "# cp = Path(r\"D:\\phd\\calc_dirs_2018.11.29\\calcs\\calcs\\2018-01-30-1632_67391\\calcs\\1_1_3\\sim.castep\")\n",
    "# gp = Path(r\"D:\\phd\\calc_dirs_2018.11.29\\calcs\\calcs\\2018-01-30-1632_67391\\calcs\\1_1_3\\sim.geom\")\n",
    "# ce = Path(r\"D:\\phd\\calc_dirs_2018.11.29\\calcs\\calcs\\2018-01-30-1632_67391\\calcs\\1_1_3\\sim.cell\")\n",
    "\n",
    "cst_dat = read_castep_file(cp)\n",
    "geom_dat = read_geom_file(gp)\n",
    "cell_dat = read_cell_file(ce)\n",
    "cstp_dat = merge_output_data(cst_dat, geom_dat=geom_dat, cell_dat=cell_dat)\n",
    "atoms_1 = cstp_dat['geom']['iterations'][opt_idx]['atoms']\n",
    "\n",
    "sim_2 = get_simulation(structure_code)\n",
    "sim_step_2 = sim_2.get_step(opt_step=opt_idx, atom_site_geometries=False)\n",
    "atoms_2 = sim_step_2['structure'].atoms.coords\n",
    "\n",
    "np.allclose(atoms_1, atoms_2)"
   ]
  },
  {
   "cell_type": "code",
   "execution_count": 78,
   "metadata": {},
   "outputs": [],
   "source": [
    "atom_idx = 41"
   ]
  },
  {
   "cell_type": "code",
   "execution_count": 58,
   "metadata": {},
   "outputs": [
    {
     "data": {
      "text/plain": [
       "array([ 1.28867788, 32.56071929, 44.05664453])"
      ]
     },
     "execution_count": 58,
     "metadata": {},
     "output_type": "execute_result"
    }
   ],
   "source": [
    "(sim_2.structure.atoms.coords + sim_2.atom_displacements[-1])[:, atom_idx]"
   ]
  },
  {
   "cell_type": "code",
   "execution_count": 59,
   "metadata": {},
   "outputs": [
    {
     "data": {
      "text/plain": [
       "array([ 1.28867788, 32.56071929, 44.05664453])"
      ]
     },
     "execution_count": 59,
     "metadata": {},
     "output_type": "execute_result"
    }
   ],
   "source": [
    "atoms_2[:, atom_idx]"
   ]
  },
  {
   "cell_type": "code",
   "execution_count": 60,
   "metadata": {},
   "outputs": [
    {
     "data": {
      "text/plain": [
       "array([3.8707313 , 2.04593796, 0.36083756])"
      ]
     },
     "execution_count": 60,
     "metadata": {},
     "output_type": "execute_result"
    }
   ],
   "source": [
    "atoms_1[:, atom_idx]"
   ]
  },
  {
   "cell_type": "code",
   "execution_count": 61,
   "metadata": {
    "code_folding": [
     0
    ]
   },
   "outputs": [
    {
     "data": {
      "text/plain": [
       "array([3.8707313 , 2.04593796, 0.36083756])"
      ]
     },
     "execution_count": 61,
     "metadata": {},
     "output_type": "execute_result"
    }
   ],
   "source": [
    "final_atom_AU = np.array([\n",
    "    [7.3121919981917589E+000, 2.7602336143738846E+001, 4.2649310779223292E+001],\n",
    "    [7.3070887718526603E+000, 3.2201564255190206E+001, 4.6627138768103784E+001],\n",
    "    [7.3174387012991442E+000, 3.7990706212907121E+001, 4.4631992979326476E+001],\n",
    "    [7.3068301719705504E+000, 3.1074598300718101E+001, 5.2621603068778882E+001],\n",
    "    [7.2916177845992065E+000, 3.6836529343610088E+001, 5.0631544228824659E+001],\n",
    "    [7.1846512744416406E+000, 4.2576287895336286E+001, 4.8652052165169529E+001],\n",
    "    [7.2740128711624026E+000, 3.5701099595200745E+001, 5.6650264992342024E+001],\n",
    "    [7.2561535473942556E+000, 4.1449593627602297E+001, 5.4637475024757876E+001],\n",
    "    [7.1806883945928197E+000, 4.0355522902068650E+001, 6.0619053561749695E+001],\n",
    "    [7.3104340976418110E+000, 4.6086130968004845E+001, 5.8622506634841670E+001],\n",
    "    [7.3023536070426092E+000, 3.9167055302196019E+001, 6.6613119691817943E+001],\n",
    "    [7.2877014092796761E+000, 4.4931395583016950E+001, 6.4626525152687279E+001],\n",
    "    [7.1818656386711464E+000, 5.0660710498929376E+001, 6.2640768714494889E+001],\n",
    "    [7.2825108204911801E+000, 4.3802135597062048E+001, 7.0613943763795547E+001],\n",
    "    [7.2558888528821264E+000, 4.9547289728903223E+001, 6.8655136391538477E+001],\n",
    "    [7.2923911911546710E+000, 4.8454758847401706E+001, 7.4739383396263776E+001],\n",
    "    [7.3167366959489675E+000, 5.4187161829824582E+001, 7.2606904677368476E+001],\n",
    "    [7.3198710115300729E+000, 4.7487250677893400E+001, 8.0606513035828769E+001],\n",
    "    [7.3197283089431959E+000, 5.3286091919484356E+001, 7.8724180898201027E+001],\n",
    "    [7.3218105375301903E+000, 5.8850043556892771E+001, 7.6515396593465667E+001],\n",
    "    [7.3200583142238038E+000, 5.8005144066304318E+001, 8.2643596645984545E+001],\n",
    "    [2.4454044328924840E+000, 3.1105566409286102E+001, 4.3276425116807779E+001],\n",
    "    [2.4100778201450925E+000, 2.9951108378174670E+001, 4.9297659221216634E+001],\n",
    "    [2.4385139402384075E+000, 3.5718169590462139E+001, 4.7308316890575796E+001],\n",
    "    [2.4123666397195129E+000, 4.1482631059066499E+001, 4.5297815540219204E+001],\n",
    "    [2.4109328374021075E+000, 3.4589594246261953E+001, 5.3316622210781652E+001],\n",
    "    [2.3010712021053163E+000, 4.0357120170273646E+001, 5.1294718228744536E+001],\n",
    "    [2.3013848869239366E+000, 3.9195653462951995E+001, 5.7371861540144991E+001],\n",
    "    [2.4299153587331102E+000, 4.4944991438008955E+001, 5.5299661319778764E+001],\n",
    "    [2.3804488247589406E+000, 3.8045748026803679E+001, 6.3311228704468583E+001],\n",
    "    [2.4044443752694278E+000, 4.3821614403028107E+001, 6.1319904651001792E+001],\n",
    "    [2.4036524153709862E+000, 4.9567881949227122E+001, 5.9309241768361630E+001],\n",
    "    [2.4211229685947151E+000, 4.2678125432245857E+001, 6.7324858078364770E+001],\n",
    "    [2.3015514027502149E+000, 4.8438159495128247E+001, 6.5292595734846770E+001],\n",
    "    [2.3100298028744648E+000, 4.7272777383094372E+001, 7.1379702820097322E+001],\n",
    "    [2.4262026785639592E+000, 5.3032288610960862E+001, 6.9320085988082866E+001],\n",
    "    [2.4346618913904590E+000, 4.6127437677792130E+001, 7.7373178554581060E+001],\n",
    "    [2.4299638683898155E+000, 5.1929970750967342E+001, 7.5353102165965964E+001],\n",
    "    [2.4279811238382996E+000, 5.7636403010765335E+001, 7.3303214395276271E+001],\n",
    "    [2.4395384745470476E+000, 5.0806949667451079E+001, 8.1261485660935151E+001],\n",
    "    [2.4392594685378235E+000, 5.6605716806611532E+001, 7.9373231547906130E+001],\n",
    "    [7.3146220662016050E+000, 3.8662624203112075E+000, 6.8188415574493166E-001],\n",
    "    [7.3514578729285018E+000, 8.1967652193926668E+000, 4.7648595741847819E+000],\n",
    "    [7.3224368278855838E+000, 1.4105864300019702E+001, 2.6674113941658630E+000],\n",
    "    [7.3566415512571366E+000, 6.9226730750617200E+000, 1.0666436018214299E+001],\n",
    "    [7.3201749071418494E+000, 1.2745711041497884E+001, 8.5693040656887085E+000],\n",
    "    [7.3489142293627321E+000, 1.8541787697374929E+001, 6.6088110653241703E+000],\n",
    "    [7.3373212817967834E+000, 1.1546807064497228E+001, 1.4619106757620701E+001],\n",
    "    [7.3195546726970013E+000, 1.7301706409247529E+001, 1.2638972745964894E+001],\n",
    "    [7.4560776684225365E+000, 1.6136538790897170E+001, 1.8636027249314587E+001],\n",
    "    [7.3584700388414515E+000, 2.1890411034847855E+001, 1.6628243696276456E+001],\n",
    "    [7.3270531000960029E+000, 1.4934137567191463E+001, 2.4601287350155033E+001],\n",
    "    [7.3537408227776417E+000, 2.0716510710358257E+001, 2.2597774548388394E+001],\n",
    "    [7.3316183507655950E+000, 2.6503431283064607E+001, 2.0590572564545127E+001],\n",
    "    [7.4551974198131070E+000, 1.9525790865596406E+001, 2.8567911589291345E+001],\n",
    "    [7.3358876718640689E+000, 2.5306624067100913E+001, 2.6596292237586283E+001],\n",
    "    [7.3343547524702384E+000, 2.4123796205279938E+001, 3.2595588485942770E+001],\n",
    "    [7.3525183503691958E+000, 2.9922173394635998E+001, 3.0612009939044121E+001],\n",
    "    [7.3224735670569094E+000, 2.2997826423820879E+001, 3.8609751891822228E+001],\n",
    "    [7.3442876537062309E+000, 2.8758364254274817E+001, 3.6626898898295984E+001],\n",
    "    [7.4665878720617078E+000, 3.4499659458374808E+001, 3.4649231321495428E+001],\n",
    "    [7.3453957845568789E+000, 3.3372275766883064E+001, 4.0632891711279015E+001],\n",
    "    [2.4413115122779163E+000, 7.0920098439872268E+000, 1.3089840860119333E+000],\n",
    "    [2.5645129498477965E+000, 5.8794012141343215E+000, 7.2833164942184805E+000],\n",
    "    [2.4448029055173315E+000, 1.1667974921299637E+001, 5.1895104140489243E+000],\n",
    "    [2.4443565186115643E+000, 1.7469293388519944E+001, 3.2887576534990752E+000],\n",
    "    [2.4525116822633959E+000, 1.0424955531533985E+001, 1.1240944627207018E+001],\n",
    "    [2.4469281889791894E+000, 1.6229545262272246E+001, 9.2374979427075594E+000],\n",
    "    [2.4660358530529742E+000, 1.4989734093589878E+001, 1.5244411649615881E+001],\n",
    "    [2.4505455964053073E+000, 2.0764510856532503E+001, 1.3257086372802874E+001],\n",
    "    [2.4734519780487059E+000, 1.3797573151004284E+001, 2.1251051297268340E+001],\n",
    "    [2.5765259722155185E+000, 1.9537888759914587E+001, 1.9236662920224450E+001],\n",
    "    [2.4697555957143211E+000, 2.5352718642316944E+001, 1.7247488770161102E+001],\n",
    "    [2.4709593652193220E+000, 1.8424326336088782E+001, 2.5225654920183313E+001],\n",
    "    [2.4595845286601508E+000, 2.4182946142857901E+001, 2.3222719188696807E+001],\n",
    "    [2.4678001086243722E+000, 2.3041786991941251E+001, 2.9243015415458807E+001],\n",
    "    [2.4474942171361729E+000, 2.8798086003874531E+001, 2.7262132824144707E+001],\n",
    "    [2.4693639065230615E+000, 2.1883276421596850E+001, 3.5268957715473292E+001],\n",
    "    [2.4578999567647877E+000, 2.7675577484741474E+001, 3.3278450348536254E+001],\n",
    "    [2.5880986090390272E+000, 3.3460191126705709E+001, 3.1204991462123626E+001],\n",
    "    [2.4495208515864251E+000, 2.6506229064401822E+001, 3.9281038745167997E+001],\n",
    "    [2.5740974314862854E+000, 3.2285688305935835E+001, 3.7286706549599145E+001],\n",
    "    [2.4419936973210850E+000, 3.6873380717903430E+001, 4.1286640003374977E+001],\n",
    "    [2.4439708788716339E+000, 6.1332302189082100E+001, 8.3259209282803766E+001],    \n",
    "])\n",
    "final_atom_geom = final_atom_AU * 0.52917721092\n",
    "final_atom_geom[atom_idx]"
   ]
  },
  {
   "cell_type": "code",
   "execution_count": null,
   "metadata": {},
   "outputs": [],
   "source": []
  },
  {
   "cell_type": "code",
   "execution_count": null,
   "metadata": {},
   "outputs": [],
   "source": []
  },
  {
   "cell_type": "code",
   "execution_count": null,
   "metadata": {},
   "outputs": [],
   "source": []
  },
  {
   "cell_type": "code",
   "execution_count": null,
   "metadata": {},
   "outputs": [],
   "source": [
    "sup = cstp_dat['geom']['iterations'][-1]['cell']\n",
    "final_first_atom_frac = np.array([0.749297, 0.184446, 0.508237])\n",
    "final_first_atom = sup @ final_first_atom_frac\n",
    "final_first_atom"
   ]
  },
  {
   "cell_type": "markdown",
   "metadata": {},
   "source": [
    "### Intermediate"
   ]
  },
  {
   "cell_type": "code",
   "execution_count": 16,
   "metadata": {},
   "outputs": [
    {
     "name": "stdout",
     "output_type": "stream",
     "text": [
      "Geometry optimisation finished in run 1\n",
      "Geometry optimisation finished in run 1\n"
     ]
    },
    {
     "data": {
      "text/plain": [
       "False"
      ]
     },
     "execution_count": 16,
     "metadata": {},
     "output_type": "execute_result"
    }
   ],
   "source": [
    "opt_idx = 2\n",
    "\n",
    "gb_sim = get_simulation(structure_code)\n",
    "gb_sim_step = gb_sim.get_step(opt_idx)\n",
    "structure_1 = gb_sim_step['structure']\n",
    "\n",
    "structure_2 = get_simulated_bicrystal(structure_code, opt_idx=opt_idx)\n",
    "\n",
    "structure_1.same_atoms(structure_2)"
   ]
  },
  {
   "cell_type": "markdown",
   "metadata": {
    "heading_collapsed": true
   },
   "source": [
    "## Generate CASTEP files for testing castep-parse"
   ]
  },
  {
   "cell_type": "code",
   "execution_count": 4,
   "metadata": {
    "hidden": true
   },
   "outputs": [],
   "source": [
    "from atomistic.bulk import BulkCrystal\n",
    "from castep_parse import write_input_files"
   ]
  },
  {
   "cell_type": "code",
   "execution_count": 5,
   "metadata": {
    "code_folding": [],
    "hidden": true
   },
   "outputs": [],
   "source": [
    "crystal_structure = {\n",
    "    'lattice': {\n",
    "        'lattice_system': 'hexagonal',\n",
    "        'lattice_parameters': {\n",
    "            'a': 3.2316,\n",
    "            'c': 5.1475,\n",
    "        },\n",
    "    },\n",
    "    'motif': {\n",
    "        'atoms': {\n",
    "            'coords': [\n",
    "                [2/3, 1/3],\n",
    "                [1/3, 2/3],\n",
    "                [3/4, 1/4],\n",
    "            ],\n",
    "            'labels': {\n",
    "                'species': [['Zr'], [0, 0]]\n",
    "            },\n",
    "        }\n",
    "    },\n",
    "}"
   ]
  },
  {
   "cell_type": "code",
   "execution_count": 9,
   "metadata": {
    "hidden": true
   },
   "outputs": [
    {
     "data": {
      "application/vnd.jupyter.widget-view+json": {
       "model_id": "566aabafe2b84e50b1d4e44247b51572",
       "version_major": 2,
       "version_minor": 0
      },
      "text/plain": [
       "FigureWidget({\n",
       "    'data': [{'mode': 'lines',\n",
       "              'name': 'supercell',\n",
       "              'type': 'scatte…"
      ]
     },
     "metadata": {},
     "output_type": "display_data"
    }
   ],
   "source": [
    "repeats = np.eye(3) * 2\n",
    "bulk = BulkCrystal.from_crystal_structure(crystal_structure, repeats)\n",
    "bulk.show()"
   ]
  },
  {
   "cell_type": "code",
   "execution_count": 10,
   "metadata": {
    "hidden": true
   },
   "outputs": [],
   "source": [
    "# Perturb atoms to allow a non-trivial geometry optimisation with a fixed cell\n",
    "bulk.atoms += (np.random.random((3, 16)) * 0.3)"
   ]
  },
  {
   "cell_type": "code",
   "execution_count": 11,
   "metadata": {
    "hidden": true
   },
   "outputs": [
    {
     "data": {
      "application/vnd.jupyter.widget-view+json": {
       "model_id": "05cc1f395eb543a596b7098816b49d70",
       "version_major": 2,
       "version_minor": 0
      },
      "text/plain": [
       "FigureWidget({\n",
       "    'data': [{'mode': 'lines',\n",
       "              'name': 'supercell',\n",
       "              'type': 'scatte…"
      ]
     },
     "metadata": {},
     "output_type": "display_data"
    }
   ],
   "source": [
    "bulk.show()"
   ]
  },
  {
   "cell_type": "code",
   "execution_count": 12,
   "metadata": {
    "hidden": true
   },
   "outputs": [
    {
     "data": {
      "text/plain": [
       "[WindowsPath('C:/code_local/scratch/_castep_sims/castep_parse_tests/base/sim.param'),\n",
       " WindowsPath('C:/code_local/scratch/_castep_sims/castep_parse_tests/base/sim.cell')]"
      ]
     },
     "execution_count": 12,
     "metadata": {},
     "output_type": "execute_result"
    }
   ],
   "source": [
    "cell_dat = {\n",
    "    'supercell': bulk.supercell,\n",
    "    'atom_sites': bulk.atoms.coords,\n",
    "    'species': bulk.atoms.labels['species'].unique_values,\n",
    "    'species_idx': bulk.atoms.labels['species'].values_idx,\n",
    "}\n",
    "\n",
    "param = {'task': 'singlepoint'}\n",
    "\n",
    "dir_path = r'C:\\code_local\\scratch\\_castep_sims\\castep_parse_tests\\base'\n",
    "\n",
    "write_input_files(**cell_dat, dir_path=dir_path, param=param)"
   ]
  },
  {
   "cell_type": "code",
   "execution_count": null,
   "metadata": {
    "hidden": true
   },
   "outputs": [],
   "source": []
  }
 ],
 "metadata": {
  "hide_input": false,
  "kernelspec": {
   "display_name": "zr_gb_papers_env",
   "language": "python",
   "name": "zr_gb_papers_env"
  },
  "language_info": {
   "codemirror_mode": {
    "name": "ipython",
    "version": 3
   },
   "file_extension": ".py",
   "mimetype": "text/x-python",
   "name": "python",
   "nbconvert_exporter": "python",
   "pygments_lexer": "ipython3",
   "version": "3.7.3"
  },
  "toc": {
   "base_numbering": 1,
   "nav_menu": {},
   "number_sections": true,
   "sideBar": true,
   "skip_h1_title": false,
   "title_cell": "Table of Contents",
   "title_sidebar": "Contents",
   "toc_cell": false,
   "toc_position": {},
   "toc_section_display": true,
   "toc_window_display": false
  }
 },
 "nbformat": 4,
 "nbformat_minor": 2
}
