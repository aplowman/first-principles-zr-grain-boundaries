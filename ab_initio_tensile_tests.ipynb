{
 "cells": [
  {
   "cell_type": "code",
   "execution_count": null,
   "metadata": {},
   "outputs": [],
   "source": [
    "from pathlib import Path\n",
    "\n",
    "from utilities import get_castep_outputs\n",
    "from tensile_test import get_tensile_test, show_traction_separation, show_multiple_traction_separation"
   ]
  },
  {
   "cell_type": "markdown",
   "metadata": {},
   "source": [
    "# Visualise ab-initio tensile test data"
   ]
  },
  {
   "cell_type": "markdown",
   "metadata": {},
   "source": [
    "**Σ7 tilt A GB**"
   ]
  },
  {
   "cell_type": "code",
   "execution_count": null,
   "metadata": {},
   "outputs": [],
   "source": [
    "tt = {\n",
    "    'Pristine': get_tensile_test('s7-tlA-gb'),\n",
    "    'Iodine': get_tensile_test('s7-tlA-gb-a1'),\n",
    "}\n",
    "show_multiple_traction_separation(tt)"
   ]
  },
  {
   "cell_type": "markdown",
   "metadata": {},
   "source": [
    "**Σ7 tilt A bulk**"
   ]
  },
  {
   "cell_type": "code",
   "execution_count": null,
   "metadata": {},
   "outputs": [],
   "source": [
    "tt = {\n",
    "    'Pristine': get_tensile_test('s7-tlA-b'),\n",
    "    'Iodine': get_tensile_test('s7-tlA-b-a1'),\n",
    "}\n",
    "show_multiple_traction_separation(tt)"
   ]
  },
  {
   "cell_type": "markdown",
   "metadata": {},
   "source": [
    "**Σ7 twist GB**"
   ]
  },
  {
   "cell_type": "code",
   "execution_count": null,
   "metadata": {},
   "outputs": [],
   "source": [
    "tt = {\n",
    "    'Pristine': get_tensile_test('s7-tw-gb'),\n",
    "    'Iodine': get_tensile_test('s7-tw-gb-a1'),\n",
    "}\n",
    "show_multiple_traction_separation(tt)"
   ]
  },
  {
   "cell_type": "markdown",
   "metadata": {},
   "source": [
    "**Σ7 twist bulk**"
   ]
  },
  {
   "cell_type": "code",
   "execution_count": null,
   "metadata": {
    "scrolled": false
   },
   "outputs": [],
   "source": [
    "tt = {\n",
    "    'Pristine': get_tensile_test('s7-tw-b'),\n",
    "    'Iodine': get_tensile_test('s7-tw-b-a1'),\n",
    "}\n",
    "show_multiple_traction_separation(tt)"
   ]
  },
  {
   "cell_type": "markdown",
   "metadata": {},
   "source": [
    "# Visualise structure at a given tensile test coordinate"
   ]
  },
  {
   "cell_type": "code",
   "execution_count": null,
   "metadata": {},
   "outputs": [],
   "source": [
    "tensile_test = get_tensile_test('s7-tlA-gb-a1')\n",
    "tensile_test.get_coordinate(5).structure.show(layout_args={'height': 800})"
   ]
  },
  {
   "cell_type": "markdown",
   "metadata": {},
   "source": [
    "# Method of tensile test inputs generation and analysis"
   ]
  },
  {
   "cell_type": "markdown",
   "metadata": {},
   "source": [
    "This section breaks down the steps used to:\n",
    "\n",
    "- generate ab-initio tensile test input files (for CASTEP)\n",
    "- collate the results\n",
    "- find the traction separation curve\n",
    "- visualise the traction separation curve"
   ]
  },
  {
   "cell_type": "code",
   "execution_count": null,
   "metadata": {},
   "outputs": [],
   "source": [
    "import copy\n",
    "\n",
    "import numpy as np\n",
    "from atomistic.tensile_test import AtomisticTensileTest\n",
    "from castep_parse import write_input_files as write_castep_input_files\n",
    "\n",
    "from utilities import get_castep_parameters, get_simulated_bicrystal"
   ]
  },
  {
   "cell_type": "code",
   "execution_count": null,
   "metadata": {},
   "outputs": [],
   "source": [
    "CASTEP_SIMS_DIR = Path('/path/to/simulation/directory')"
   ]
  },
  {
   "cell_type": "markdown",
   "metadata": {},
   "source": [
    "**Generate an `AtomisticTensileTest`**"
   ]
  },
  {
   "cell_type": "code",
   "execution_count": null,
   "metadata": {},
   "outputs": [],
   "source": [
    "structure_code = 's7-tw-b-a1'\n",
    "bicrystal = get_simulated_bicrystal(structure_code, opt_idx=-1)"
   ]
  },
  {
   "cell_type": "code",
   "execution_count": null,
   "metadata": {},
   "outputs": [],
   "source": [
    "exp = np.array([\n",
    "\n",
    "])\n",
    "exp = np.sort(exp)"
   ]
  },
  {
   "cell_type": "code",
   "execution_count": null,
   "metadata": {},
   "outputs": [],
   "source": [
    "tensile_test = AtomisticTensileTest(\n",
    "    base_structure=bicrystal,\n",
    "    expansions=exp,\n",
    "    distribution='flat',\n",
    ")"
   ]
  },
  {
   "cell_type": "markdown",
   "metadata": {},
   "source": [
    "**Iterate over all coordinates to generate simulation input files**"
   ]
  },
  {
   "cell_type": "code",
   "execution_count": null,
   "metadata": {},
   "outputs": [],
   "source": [
    "base_path = CASTEP_SIMS_DIR.joinpath(structure_code)\n",
    "input_paths = []\n",
    "\n",
    "common_castep_params = get_castep_parameters(num_atoms=bicrystal.num_atoms)\n",
    "common_castep_params['atom_constraints'] = None\n",
    "\n",
    "for i in tensile_test.all_coordinates():\n",
    "    \n",
    "    # Make a directory for this sim:\n",
    "    sim_path = base_path.joinpath(i.coordinate_fmt)\n",
    "    sim_path.mkdir()\n",
    "    \n",
    "    # Write simulation inputs:\n",
    "    cst_params = {\n",
    "        'supercell': i.structure.supercell,\n",
    "        'atom_sites': i.structure.atoms.coords,\n",
    "        'species': i.structure.atoms.labels['species'].unique_values,\n",
    "        'species_idx': i.structure.atoms.labels['species'].values_idx,\n",
    "        'dir_path': sim_path,\n",
    "        **copy.deepcopy(common_castep_params),\n",
    "    }\n",
    "    input_paths.append(write_castep_input_files(**cst_params))\n",
    "    "
   ]
  },
  {
   "cell_type": "code",
   "execution_count": null,
   "metadata": {},
   "outputs": [],
   "source": []
  }
 ],
 "metadata": {
  "hide_input": false,
  "kernelspec": {
   "display_name": "zr_gb_papers_env",
   "language": "python",
   "name": "zr_gb_papers_env"
  },
  "language_info": {
   "codemirror_mode": {
    "name": "ipython",
    "version": 3
   },
   "file_extension": ".py",
   "mimetype": "text/x-python",
   "name": "python",
   "nbconvert_exporter": "python",
   "pygments_lexer": "ipython3",
   "version": "3.7.3"
  },
  "toc": {
   "base_numbering": 1,
   "nav_menu": {},
   "number_sections": true,
   "sideBar": true,
   "skip_h1_title": false,
   "title_cell": "Table of Contents",
   "title_sidebar": "Contents",
   "toc_cell": false,
   "toc_position": {},
   "toc_section_display": true,
   "toc_window_display": false
  }
 },
 "nbformat": 4,
 "nbformat_minor": 2
}
