{
 "cells": [
  {
   "cell_type": "markdown",
   "metadata": {},
   "source": [
    "## Ab initio tensile tests"
   ]
  },
  {
   "cell_type": "code",
   "execution_count": null,
   "metadata": {},
   "outputs": [],
   "source": [
    "from tensile_test import (\n",
    "    tabulate_TS_results,\n",
    "    show_fitted_tensile_test,\n",
    "    fit_tensile_test,\n",
    "    write_manuscript_figures_tensile_tests,\n",
    "    show_min_vac_dist_change,\n",
    ")\n",
    "from utilities import load_structures, get_all_wsep"
   ]
  },
  {
   "cell_type": "code",
   "execution_count": null,
   "metadata": {},
   "outputs": [],
   "source": [
    "DFT_sims = load_structures('DFT', 'data/processed/DFT_sims.json')\n",
    "W_sep = get_all_wsep(DFT_sims)"
   ]
  },
  {
   "cell_type": "markdown",
   "metadata": {},
   "source": [
    "### Find fitting limits"
   ]
  },
  {
   "cell_type": "code",
   "execution_count": null,
   "metadata": {},
   "outputs": [],
   "source": [
    "show_min_vac_dist_change('s7-tlA-gb')"
   ]
  },
  {
   "cell_type": "code",
   "execution_count": null,
   "metadata": {},
   "outputs": [],
   "source": [
    "show_min_vac_dist_change('s7-tlA-b')"
   ]
  },
  {
   "cell_type": "code",
   "execution_count": null,
   "metadata": {},
   "outputs": [],
   "source": [
    "show_min_vac_dist_change('s7-tw-gb')"
   ]
  },
  {
   "cell_type": "code",
   "execution_count": null,
   "metadata": {},
   "outputs": [],
   "source": [
    "show_min_vac_dist_change('s7-tw-b')"
   ]
  },
  {
   "cell_type": "markdown",
   "metadata": {},
   "source": [
    "From these graphs we identify the following fitting limits, where we have taken the mean average of the two interfaces, in cases where the fitting limits for both interfaces are distinct:"
   ]
  },
  {
   "cell_type": "code",
   "execution_count": null,
   "metadata": {},
   "outputs": [],
   "source": [
    "fit_limits_pristine = {\n",
    "    's7-tlA-gb': 2.25,\n",
    "    's7-tlA-b': 3.10,\n",
    "    's7-tw-gb': 2.15,\n",
    "    's7-tw-b': 2.30,\n",
    "}\n",
    "fit_limits_defective = {\n",
    "    's7-tlA-gb-a1': 2.30,\n",
    "    's7-tlA-b-a1': 2.80,\n",
    "    's7-tw-gb-a1': 2.05,\n",
    "    's7-tw-b-a1': 2.20,\n",
    "}"
   ]
  },
  {
   "cell_type": "markdown",
   "metadata": {},
   "source": [
    "### Fit region of tensile test data to a quadratic"
   ]
  },
  {
   "cell_type": "code",
   "execution_count": null,
   "metadata": {},
   "outputs": [],
   "source": [
    "fits = {}\n",
    "for code, lim in fit_limits_pristine.items():\n",
    "    def_code = code + '-a1'\n",
    "    def_lim = fit_limits_defective[def_code]\n",
    "    fit_tt_prs = fit_tensile_test(code, W_sep=W_sep, fit_limit=lim)\n",
    "    fit_tt_def = fit_tensile_test(def_code, W_sep=W_sep, fit_limit=def_lim)\n",
    "    fits[code] = fit_tt_prs\n",
    "    fits[def_code] = fit_tt_def"
   ]
  },
  {
   "cell_type": "markdown",
   "metadata": {},
   "source": [
    "### Show tensile test data with partial fits"
   ]
  },
  {
   "cell_type": "code",
   "execution_count": null,
   "metadata": {},
   "outputs": [],
   "source": [
    "for code in fit_limits_pristine:\n",
    "    def_code = code + '-a1'\n",
    "    fit_tt_prs = fits[code]\n",
    "    fit_tt_def = fits[def_code]\n",
    "    fig = show_fitted_tensile_test(\n",
    "        {'pristine': fit_tt_prs, 'defective': fit_tt_def},\n",
    "        fig_name=code\n",
    "    )\n",
    "    fig.show()"
   ]
  },
  {
   "cell_type": "markdown",
   "metadata": {},
   "source": [
    "### Analyse the effects of the defects"
   ]
  },
  {
   "cell_type": "code",
   "execution_count": null,
   "metadata": {},
   "outputs": [],
   "source": [
    "tabulate_TS_results(fits, W_sep)"
   ]
  },
  {
   "cell_type": "markdown",
   "metadata": {},
   "source": [
    "### Manuscript figures"
   ]
  },
  {
   "cell_type": "code",
   "execution_count": null,
   "metadata": {},
   "outputs": [],
   "source": [
    "for i in write_manuscript_figures_tensile_tests(fits):\n",
    "    i.show()"
   ]
  },
  {
   "cell_type": "code",
   "execution_count": null,
   "metadata": {},
   "outputs": [],
   "source": []
  }
 ],
 "metadata": {
  "interpreter": {
   "hash": "c775c1e6b3eb5e71267bf5e16cde787343ccf7d7636bba966b077c32ed40a4ad"
  },
  "kernelspec": {
   "display_name": "Python 3.7.6 ('zr_gb_papers_env')",
   "language": "python",
   "name": "python3"
  },
  "language_info": {
   "codemirror_mode": {
    "name": "ipython",
    "version": 3
   },
   "file_extension": ".py",
   "mimetype": "text/x-python",
   "name": "python",
   "nbconvert_exporter": "python",
   "pygments_lexer": "ipython3",
   "version": "3.7.6"
  },
  "orig_nbformat": 4
 },
 "nbformat": 4,
 "nbformat_minor": 2
}
