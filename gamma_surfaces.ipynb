{
 "cells": [
  {
   "cell_type": "code",
   "execution_count": 1,
   "metadata": {},
   "outputs": [],
   "source": [
    "%load_ext autoreload\n",
    "%autoreload 2"
   ]
  },
  {
   "cell_type": "code",
   "execution_count": 2,
   "metadata": {},
   "outputs": [],
   "source": [
    "from pathlib import Path\n",
    "\n",
    "from gamma_surfaces import get_gamma_surface, show_master_gamma_surface, show_gamma_surface_fit\n",
    "from utilities import make_structure"
   ]
  },
  {
   "cell_type": "markdown",
   "metadata": {
    "heading_collapsed": true
   },
   "source": [
    "# Visualise gamma surface data"
   ]
  },
  {
   "cell_type": "markdown",
   "metadata": {
    "hidden": true
   },
   "source": [
    "The code below uses JSON data files that are stored within this repository to visualise the fitted gamma surfaces."
   ]
  },
  {
   "cell_type": "code",
   "execution_count": 8,
   "metadata": {
    "hidden": true,
    "scrolled": false
   },
   "outputs": [
    {
     "data": {
      "application/vnd.jupyter.widget-view+json": {
       "model_id": "b4aff736314b4c31a75ba997bf457f75",
       "version_major": 2,
       "version_minor": 0
      },
      "text/plain": [
       "FigureWidget({\n",
       "    'data': [{'colorscale': [[0.0, '#440154'], [0.1111111111111111, '#482878'],\n",
       "               …"
      ]
     },
     "metadata": {},
     "output_type": "display_data"
    }
   ],
   "source": [
    "structure_code = 's7-tlB-gb'\n",
    "lattice_parameters = 'eam'\n",
    "\n",
    "gs = get_gamma_surface(structure_code, lattice_parameters)\n",
    "show_master_gamma_surface(gs)"
   ]
  },
  {
   "cell_type": "code",
   "execution_count": 9,
   "metadata": {
    "hidden": true
   },
   "outputs": [
    {
     "data": {
      "application/vnd.jupyter.widget-view+json": {
       "model_id": "6fab63d549d743a5af0ce377133d10d9",
       "version_major": 2,
       "version_minor": 0
      },
      "text/plain": [
       "FigureWidget({\n",
       "    'data': [{'name': 'Fit',\n",
       "              'type': 'scatter',\n",
       "              'uid': '2191dc33-fa…"
      ]
     },
     "metadata": {},
     "output_type": "display_data"
    }
   ],
   "source": [
    "# Show quadratic fitting at a given shift:\n",
    "show_gamma_surface_fit(gs, shift=[0, 0.4])"
   ]
  },
  {
   "cell_type": "markdown",
   "metadata": {
    "heading_collapsed": true
   },
   "source": [
    "# Method of gamma surface generation and analysis"
   ]
  },
  {
   "cell_type": "markdown",
   "metadata": {
    "hidden": true
   },
   "source": [
    "This section breaks down the steps used to:\n",
    "\n",
    "- generate gamma surface input files (for LAMMPS)\n",
    "- run the simulations\n",
    "- collate the results\n",
    "- perform quadratic fitting\n",
    "- visualise the master gamma surface"
   ]
  },
  {
   "cell_type": "markdown",
   "metadata": {
    "hidden": true
   },
   "source": [
    "> **Note**: you cannot run simulations on Binder!"
   ]
  },
  {
   "cell_type": "code",
   "execution_count": 6,
   "metadata": {
    "hidden": true
   },
   "outputs": [],
   "source": [
    "from subprocess import run, PIPE\n",
    "import numpy as np\n",
    "\n",
    "from atomistic.bicrystal import GammaSurface\n",
    "from lammps_parse import write_lammps_inputs, read_lammps_output\n",
    "from plotly import graph_objects\n",
    "\n",
    "from utilities import get_lammps_parameters\n",
    "\n",
    "# Change this variable to the directory where LAMMPS gamma surface simulation input files should be generated:\n",
    "LAMMPS_SIMS_DIR = Path('C:\\code_local\\scratch\\lammps_sims')\n",
    "\n",
    "# Change this to the LAMMPS executable name (note, you cannot run simulations on Binder!):\n",
    "LAMMPS_EXECUTABLE = 'lmp_serial'"
   ]
  },
  {
   "cell_type": "markdown",
   "metadata": {
    "hidden": true
   },
   "source": [
    "**Generate a bicrystal whose gamma surface is to be explored**"
   ]
  },
  {
   "cell_type": "code",
   "execution_count": 9,
   "metadata": {
    "hidden": true
   },
   "outputs": [
    {
     "data": {
      "application/vnd.jupyter.widget-view+json": {
       "model_id": "aa8dafec29d849cd9b1b36bd0c3553dd",
       "version_major": 2,
       "version_minor": 0
      },
      "text/plain": [
       "FigureWidget({\n",
       "    'data': [{'mode': 'lines',\n",
       "              'name': 'supercell',\n",
       "              'type': 'scatte…"
      ]
     },
     "metadata": {},
     "output_type": "display_data"
    }
   ],
   "source": [
    "bicrystal = make_structure('s7-tlA-gb', lattice_parameters='eam', configuration='sized')\n",
    "bicrystal.show(\n",
    "    include={'points': ['atoms']},\n",
    "    layout_args={'height': 800},\n",
    ")"
   ]
  },
  {
   "cell_type": "markdown",
   "metadata": {
    "hidden": true
   },
   "source": [
    "**Generate a gamma surface from a grid**"
   ]
  },
  {
   "cell_type": "code",
   "execution_count": 10,
   "metadata": {
    "hidden": true
   },
   "outputs": [],
   "source": [
    "gamma_surface = GammaSurface.from_grid(bicrystal, grid=[3, 9], expansions=[0, 1, 2])"
   ]
  },
  {
   "cell_type": "markdown",
   "metadata": {
    "hidden": true
   },
   "source": [
    "**Iterate over all coordinates in the gamma surface to generate simulation input files**"
   ]
  },
  {
   "cell_type": "code",
   "execution_count": 13,
   "metadata": {
    "hidden": true
   },
   "outputs": [],
   "source": [
    "pot_base_dir = Path('.').resolve()\n",
    "input_paths = []\n",
    "\n",
    "common_lammps_params = get_lammps_parameters(base_path=pot_base_dir)\n",
    "\n",
    "for i in gamma_surface.all_coordinates():\n",
    "    \n",
    "    # Make a directory for this sim:\n",
    "    sim_path = LAMMPS_SIMS_DIR.joinpath(i.coordinate_fmt)\n",
    "    sim_path.mkdir()\n",
    "    \n",
    "    # Write simulation inputs:\n",
    "    lammps_params = {\n",
    "        'supercell': i.structure.supercell,\n",
    "        'atom_sites': i.structure.atoms.coords,\n",
    "        'species': i.structure.atoms.labels['species'].unique_values,\n",
    "        'species_idx': i.structure.atoms.labels['species'].values_idx,\n",
    "        'dir_path': sim_path,\n",
    "        **common_lammps_params,\n",
    "    }\n",
    "    input_paths.append(write_lammps_inputs(**lammps_params))\n",
    "    "
   ]
  },
  {
   "cell_type": "markdown",
   "metadata": {
    "hidden": true
   },
   "source": [
    "**Run simulations**"
   ]
  },
  {
   "cell_type": "code",
   "execution_count": 14,
   "metadata": {
    "hidden": true,
    "scrolled": true
   },
   "outputs": [],
   "source": [
    "for i in input_paths:\n",
    "    cmd = '{} < {}'.format(LAMMPS_EXECUTABLE, i.name)\n",
    "    proc = run(cmd, shell=True, cwd=i.parent , stdout=PIPE, stderr=PIPE)    "
   ]
  },
  {
   "cell_type": "markdown",
   "metadata": {
    "hidden": true
   },
   "source": [
    "**Collate simulation outputs**"
   ]
  },
  {
   "cell_type": "code",
   "execution_count": 15,
   "metadata": {
    "hidden": true
   },
   "outputs": [],
   "source": [
    "simulated_gamma_surface_params = {\n",
    "    'shifts': [],\n",
    "    'expansions': [],\n",
    "    'data': {\n",
    "        'energy': []\n",
    "    },\n",
    "}\n",
    "for i in input_paths:\n",
    "        \n",
    "    shift_str, exp_str = i.parent.name.split('__')    \n",
    "    shift = []\n",
    "    for j in shift_str.split('_'):\n",
    "        num, denom = j.split('.')\n",
    "        shift.append(int(num) / int(denom))\n",
    "        \n",
    "    simulated_gamma_surface_params['shifts'].append(shift)\n",
    "    simulated_gamma_surface_params['expansions'].append(float(exp_str))\n",
    "    \n",
    "    lammps_out = read_lammps_output(dir_path=i.parent)\n",
    "    simulated_gamma_surface_params['data']['energy'].append(\n",
    "        lammps_out['final_energy'][-1])"
   ]
  },
  {
   "cell_type": "markdown",
   "metadata": {
    "hidden": true
   },
   "source": [
    "**Generate a new GammaSurface to represent the simulated data**"
   ]
  },
  {
   "cell_type": "code",
   "execution_count": 16,
   "metadata": {
    "hidden": true,
    "scrolled": false
   },
   "outputs": [],
   "source": [
    "simulated_gamma_surface = GammaSurface(bicrystal, **simulated_gamma_surface_params)"
   ]
  },
  {
   "cell_type": "markdown",
   "metadata": {
    "hidden": true
   },
   "source": [
    "**Plot a slice of the gamma surface**"
   ]
  },
  {
   "cell_type": "code",
   "execution_count": 17,
   "metadata": {
    "hidden": true
   },
   "outputs": [
    {
     "data": {
      "application/vnd.jupyter.widget-view+json": {
       "model_id": "c5341d4f8b93431891fbc9c1f22b745b",
       "version_major": 2,
       "version_minor": 0
      },
      "text/plain": [
       "FigureWidget({\n",
       "    'data': [{'colorscale': [[0.0, '#440154'], [0.1111111111111111, '#482878'],\n",
       "               …"
      ]
     },
     "metadata": {},
     "output_type": "display_data"
    }
   ],
   "source": [
    "plot_dat = simulated_gamma_surface.get_surface_plot_data('energy', expansion=0, xy_as_grid=False)\n",
    "grid_dat = simulated_gamma_surface.get_xy_plot_data()\n",
    "graph_objects.FigureWidget(\n",
    "    data=[\n",
    "        {\n",
    "            'type': 'contour',\n",
    "            'colorscale': 'viridis',\n",
    "            **plot_dat,            \n",
    "        },\n",
    "        {\n",
    "            **grid_dat,\n",
    "            'mode': 'markers',\n",
    "            'marker': {\n",
    "                'size': 2,\n",
    "            },\n",
    "        },\n",
    "    ],\n",
    "    layout={\n",
    "        'xaxis': {\n",
    "            'scaleanchor': 'y',          \n",
    "        },        \n",
    "    }\n",
    ")"
   ]
  },
  {
   "cell_type": "markdown",
   "metadata": {
    "hidden": true
   },
   "source": [
    "**Fit at each shift to find the master gamma surface, and plot**"
   ]
  },
  {
   "cell_type": "code",
   "execution_count": 18,
   "metadata": {
    "hidden": true
   },
   "outputs": [],
   "source": [
    "simulated_gamma_surface.add_fit('energy', 3)"
   ]
  },
  {
   "cell_type": "code",
   "execution_count": 19,
   "metadata": {
    "hidden": true,
    "scrolled": false
   },
   "outputs": [
    {
     "data": {
      "application/vnd.jupyter.widget-view+json": {
       "model_id": "cbea50f2ad7649aa97e4d1ff0baeb2a4",
       "version_major": 2,
       "version_minor": 0
      },
      "text/plain": [
       "FigureWidget({\n",
       "    'data': [{'colorscale': [[0.0, '#440154'], [0.1111111111111111, '#482878'],\n",
       "               …"
      ]
     },
     "metadata": {},
     "output_type": "display_data"
    }
   ],
   "source": [
    "master_plot_data = simulated_gamma_surface.get_fitted_surface_plot_data('energy', xy_as_grid=False)\n",
    "graph_objects.FigureWidget(\n",
    "    data=[\n",
    "        {\n",
    "            'type': 'contour',\n",
    "            'colorscale': 'viridis',\n",
    "            **master_plot_data,            \n",
    "        },\n",
    "        {\n",
    "            **grid_dat,\n",
    "            'mode': 'markers',\n",
    "            'marker': {\n",
    "                'size': 2,\n",
    "            },\n",
    "        },        \n",
    "    ],\n",
    "    layout={\n",
    "        'xaxis': {\n",
    "            'scaleanchor': 'y',\n",
    "        }\n",
    "    }\n",
    ")"
   ]
  },
  {
   "cell_type": "markdown",
   "metadata": {
    "hidden": true
   },
   "source": [
    "**Plot the fit at a given shift**"
   ]
  },
  {
   "cell_type": "code",
   "execution_count": 20,
   "metadata": {
    "hidden": true
   },
   "outputs": [
    {
     "data": {
      "application/vnd.jupyter.widget-view+json": {
       "model_id": "183b95095e21480785734e298cc48cac",
       "version_major": 2,
       "version_minor": 0
      },
      "text/plain": [
       "FigureWidget({\n",
       "    'data': [{'name': 'Fit',\n",
       "              'type': 'scatter',\n",
       "              'uid': '88702aac-80…"
      ]
     },
     "metadata": {},
     "output_type": "display_data"
    }
   ],
   "source": [
    "fit_plot_dat = simulated_gamma_surface.get_fit_plot_data('energy', [0, 0])\n",
    "fig = graph_objects.FigureWidget(\n",
    "    data=[\n",
    "        {\n",
    "            **fit_plot_dat['fitted_data'],\n",
    "            'name': 'Fit',\n",
    "        },\n",
    "        {\n",
    "            **fit_plot_dat['data'],\n",
    "            'name': 'energy',\n",
    "        },\n",
    "        {\n",
    "            **fit_plot_dat['minimum'],\n",
    "            'name': 'Fit min.',\n",
    "        },\n",
    "    ],\n",
    "    layout={\n",
    "        'xaxis': {\n",
    "            'title': 'Expansion',\n",
    "        },\n",
    "        'yaxis': {\n",
    "            'title': 'energy',\n",
    "        },\n",
    "        'width': 400,\n",
    "        'height': 400,\n",
    "    }\n",
    ")\n",
    "fig"
   ]
  },
  {
   "cell_type": "markdown",
   "metadata": {
    "heading_collapsed": true
   },
   "source": [
    "# Using wrapper functions in `gamma_surfaces.py`"
   ]
  },
  {
   "cell_type": "markdown",
   "metadata": {
    "hidden": true
   },
   "source": [
    "The above workflow is wrapped up into a few wrapper functions in the python file `gamma_surfaces.py`."
   ]
  },
  {
   "cell_type": "code",
   "execution_count": 21,
   "metadata": {
    "hidden": true
   },
   "outputs": [],
   "source": [
    "from gamma_surfaces import compute_master_gamma_surface"
   ]
  },
  {
   "cell_type": "code",
   "execution_count": 23,
   "metadata": {
    "hidden": true
   },
   "outputs": [],
   "source": [
    "structure_code = 's7-tlA-gb'\n",
    "sims_dir = LAMMPS_SIMS_DIR.joinpath(structure_code)\n",
    "sims_dir.mkdir()\n",
    "gamma_surface = compute_master_gamma_surface(structure_code, sims_dir) # 5 mins run time"
   ]
  },
  {
   "cell_type": "code",
   "execution_count": 24,
   "metadata": {
    "hidden": true
   },
   "outputs": [
    {
     "data": {
      "application/vnd.jupyter.widget-view+json": {
       "model_id": "d5b02626b2f24e2d888c9869ea82596c",
       "version_major": 2,
       "version_minor": 0
      },
      "text/plain": [
       "FigureWidget({\n",
       "    'data': [{'colorscale': [[0.0, '#440154'], [0.1111111111111111, '#482878'],\n",
       "               …"
      ]
     },
     "metadata": {},
     "output_type": "display_data"
    }
   ],
   "source": [
    "show_master_gamma_surface(gamma_surface)"
   ]
  },
  {
   "cell_type": "code",
   "execution_count": null,
   "metadata": {
    "hidden": true
   },
   "outputs": [],
   "source": []
  }
 ],
 "metadata": {
  "hide_input": false,
  "kernelspec": {
   "display_name": "zr_gb_papers_env",
   "language": "python",
   "name": "zr_gb_papers_env"
  },
  "language_info": {
   "codemirror_mode": {
    "name": "ipython",
    "version": 3
   },
   "file_extension": ".py",
   "mimetype": "text/x-python",
   "name": "python",
   "nbconvert_exporter": "python",
   "pygments_lexer": "ipython3",
   "version": "3.7.3"
  },
  "toc": {
   "base_numbering": 1,
   "nav_menu": {},
   "number_sections": true,
   "sideBar": true,
   "skip_h1_title": false,
   "title_cell": "Table of Contents",
   "title_sidebar": "Contents",
   "toc_cell": false,
   "toc_position": {},
   "toc_section_display": true,
   "toc_window_display": false
  }
 },
 "nbformat": 4,
 "nbformat_minor": 2
}
