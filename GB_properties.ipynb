{
 "cells": [
  {
   "cell_type": "markdown",
   "metadata": {},
   "source": [
    "# Pristine Zr GB properties"
   ]
  },
  {
   "cell_type": "code",
   "execution_count": null,
   "metadata": {},
   "outputs": [],
   "source": [
    "from utilities import (\n",
    "    load_structures,\n",
    "    get_all_interface_energies, \n",
    "    get_all_wsep,\n",
    "    get_interplanar_spacing_data,\n",
    "    get_local_volume_change_data,\n",
    "    get_coordination_change_data,    \n",
    ")\n",
    "\n",
    "import numpy as np\n",
    "from plotly import graph_objects"
   ]
  },
  {
   "cell_type": "code",
   "execution_count": null,
   "metadata": {},
   "outputs": [],
   "source": [
    "DFT_sims = load_structures('data/processed/DFT_sims.json')"
   ]
  },
  {
   "cell_type": "markdown",
   "metadata": {},
   "source": [
    "## Interface energetics"
   ]
  },
  {
   "cell_type": "code",
   "execution_count": null,
   "metadata": {},
   "outputs": [],
   "source": [
    "E_GB = get_all_interface_energies(DFT_sims, 'gb')\n",
    "E_FS = get_all_interface_energies(DFT_sims, 'fs')\n",
    "W_sep = get_all_wsep(DFT_sims)\n",
    "\n",
    "# Get pristine W_GB and W_B:\n",
    "W_GB = {k: v for k, v in W_sep.items() if len(k.split('-')) == 3 and '-gb' in k}\n",
    "W_B = {k: v for k, v in W_sep.items() if len(k.split('-')) == 3 and '-b' in k}"
   ]
  },
  {
   "cell_type": "markdown",
   "metadata": {},
   "source": [
    "### Grain boundary energy"
   ]
  },
  {
   "cell_type": "code",
   "execution_count": null,
   "metadata": {},
   "outputs": [],
   "source": [
    "plot_dat = []\n",
    "for structure_code, value in E_GB.items():\n",
    "    structure_info = DFT_sims[structure_code]['structure_info']\n",
    "    theta = structure_info['misorientation']\n",
    "    plot_dat.append({\n",
    "        'x': [theta],\n",
    "        'y': [value],\n",
    "        'name': structure_code\n",
    "    })\n",
    "graph_objects.FigureWidget(\n",
    "    data=plot_dat,\n",
    "    layout={\n",
    "        'width': 600,\n",
    "        'height': 500,\n",
    "        'xaxis': {\n",
    "            'title': 'Misorientation / deg.',\n",
    "        },\n",
    "        'yaxis': {\n",
    "            'title': 'E_GB / J/m^2',\n",
    "        },                \n",
    "    }\n",
    ")"
   ]
  },
  {
   "cell_type": "markdown",
   "metadata": {},
   "source": [
    "### Surface energy"
   ]
  },
  {
   "cell_type": "code",
   "execution_count": null,
   "metadata": {},
   "outputs": [],
   "source": [
    "plot_dat = []\n",
    "for structure_code, value in E_FS.items():\n",
    "    structure_info = DFT_sims[structure_code]['structure_info']\n",
    "    theta = structure_info['misorientation']\n",
    "    plot_dat.append({\n",
    "        'x': [theta],\n",
    "        'y': [value],\n",
    "        'name': structure_code\n",
    "    })\n",
    "graph_objects.FigureWidget(\n",
    "    data=plot_dat,\n",
    "    layout={\n",
    "        'width': 600,\n",
    "        'height': 500,\n",
    "        'xaxis': {\n",
    "            'title': 'Misorientation / deg.',\n",
    "        },\n",
    "        'yaxis': {\n",
    "            'title': 'E_FS / J/m^2',\n",
    "        },                \n",
    "    }\n",
    ")"
   ]
  },
  {
   "cell_type": "markdown",
   "metadata": {},
   "source": [
    "### Work of separation - GB"
   ]
  },
  {
   "cell_type": "code",
   "execution_count": null,
   "metadata": {
    "scrolled": false
   },
   "outputs": [],
   "source": [
    "plot_dat = []\n",
    "for structure_code, value in W_GB.items():\n",
    "    structure_info = DFT_sims[structure_code]['structure_info']\n",
    "    theta = structure_info['misorientation']\n",
    "    plot_dat.append({\n",
    "        'x': [theta],\n",
    "        'y': [value],\n",
    "        'name': structure_code\n",
    "    })\n",
    "graph_objects.FigureWidget(\n",
    "    data=plot_dat,\n",
    "    layout={\n",
    "        'width': 600,\n",
    "        'height': 500,\n",
    "        'xaxis': {\n",
    "            'title': 'Misorientation / deg.',\n",
    "        },\n",
    "        'yaxis': {\n",
    "            'title': 'W_sep / J/m^2',\n",
    "        },                \n",
    "    }\n",
    ")"
   ]
  },
  {
   "cell_type": "markdown",
   "metadata": {},
   "source": [
    "### Work of separation - Bulk"
   ]
  },
  {
   "cell_type": "code",
   "execution_count": null,
   "metadata": {},
   "outputs": [],
   "source": [
    "plot_dat = []\n",
    "for structure_code, value in W_B.items():\n",
    "    structure_info = DFT_sims[structure_code]['structure_info']\n",
    "    theta = structure_info['misorientation']\n",
    "    plot_dat.append({\n",
    "        'x': [theta],\n",
    "        'y': [value],\n",
    "        'name': structure_code\n",
    "    })\n",
    "graph_objects.FigureWidget(\n",
    "    data=plot_dat,\n",
    "    layout={\n",
    "        'width': 600,\n",
    "        'height': 500,\n",
    "        'xaxis': {\n",
    "            'title': 'Misorientation / deg.',\n",
    "        },\n",
    "        'yaxis': {\n",
    "            'title': 'W_sep / J/m^2',\n",
    "        },                \n",
    "    }\n",
    ")"
   ]
  },
  {
   "cell_type": "markdown",
   "metadata": {},
   "source": [
    "## Geometric measures"
   ]
  },
  {
   "cell_type": "markdown",
   "metadata": {},
   "source": [
    "### Interplanar spacing"
   ]
  },
  {
   "cell_type": "code",
   "execution_count": null,
   "metadata": {},
   "outputs": [],
   "source": [
    "params = [\n",
    "    {'structure_code': 's7-tlA-gb', 'step': 2, 'add_one': False, 'bulk_val': 1.05779},\n",
    "    {'structure_code': 's7-tlB-gb', 'step': 2, 'add_one': False, 'bulk_val': 0.610715},\n",
    "    {'structure_code': 's13-tlA-gb', 'step': 2, 'add_one': False, 'bulk_val': 0.7762077},\n",
    "    {'structure_code': 's19-tlA-gb', 'step': 2, 'add_one': False, 'bulk_val': 0.642054},\n",
    "    {'structure_code': 's31-tlA-gb', 'step': 2, 'add_one': False, 'bulk_val': 0.502652},\n",
    "    {'structure_code': 's7-tw-gb', 'step': 1, 'add_one': True, 'bulk_val': 5.1641/2, 'average_by': 7},\n",
    "    {'structure_code': 's13-tw-gb', 'step': 1, 'add_one': True, 'bulk_val': 5.1641/2, 'average_by': 13},\n",
    "    {'structure_code': 's19-tw-gb', 'step': 1, 'add_one': True, 'bulk_val': 5.1641/2, 'average_by': 19},\n",
    "]\n",
    "\n",
    "int_spacing_data = []\n",
    "for param_set in params:\n",
    "    int_spacing_data.append(\n",
    "        get_interplanar_spacing_data(DFT_sims, **param_set)\n",
    "    )"
   ]
  },
  {
   "cell_type": "code",
   "execution_count": null,
   "metadata": {
    "scrolled": false
   },
   "outputs": [],
   "source": [
    "plot_data = []\n",
    "for i in int_spacing_data:\n",
    "    plot_data.extend([\n",
    "        {\n",
    "            'y': i['y'],\n",
    "            'name': '{}'.format(i['structure_code'])\n",
    "        },\n",
    "        {\n",
    "            'x': i['xrange'],\n",
    "            'y': [i['bulk_val']] * 2,\n",
    "            'cliponaxis': False,\n",
    "            'mode': 'lines',\n",
    "            'line': {\n",
    "                'width': 1,\n",
    "                'color': 'gray',\n",
    "            },      \n",
    "            'name': 'Bulk ({})'.format(i['structure_code']),\n",
    "        },        \n",
    "    ])\n",
    "\n",
    "graph_objects.FigureWidget(\n",
    "    data=plot_data,\n",
    "    layout={\n",
    "        'width': 600,\n",
    "        'height': 500,\n",
    "        'xaxis': {\n",
    "            'title': 'Layer',\n",
    "        },\n",
    "        'yaxis': {\n",
    "            'title': 'Interplanar spacing /Ang.',\n",
    "        },                \n",
    "    }\n",
    ")"
   ]
  },
  {
   "cell_type": "markdown",
   "metadata": {},
   "source": [
    "### Change in local atomic volume"
   ]
  },
  {
   "cell_type": "code",
   "execution_count": null,
   "metadata": {},
   "outputs": [],
   "source": [
    "# Volumer per atom from DFT-optimised lattice parameters\n",
    "lat_a = 3.2301\n",
    "lat_c = 5.1641\n",
    "\n",
    "vol_bulk = lat_a ** 2 * np.cos(np.deg2rad(30)) * lat_c / 2"
   ]
  },
  {
   "cell_type": "code",
   "execution_count": null,
   "metadata": {},
   "outputs": [],
   "source": [
    "params = [\n",
    "    {'structure_code': 's7-tlA-gb', 'vol_bulk': vol_bulk},\n",
    "    {'structure_code': 's7-tlB-gb', 'vol_bulk': vol_bulk},\n",
    "    {'structure_code': 's13-tlA-gb', 'vol_bulk': vol_bulk},\n",
    "    {'structure_code': 's19-tlA-gb', 'vol_bulk': vol_bulk},\n",
    "    {'structure_code': 's31-tlA-gb', 'vol_bulk': vol_bulk},\n",
    "    {'structure_code': 's7-tw-gb', 'vol_bulk': vol_bulk},\n",
    "    {'structure_code': 's13-tw-gb', 'vol_bulk': vol_bulk},\n",
    "    {'structure_code': 's19-tw-gb', 'vol_bulk': vol_bulk},\n",
    "]\n",
    "\n",
    "vol_change = []\n",
    "for param_set in params:\n",
    "    vol_change.append(\n",
    "        get_local_volume_change_data(DFT_sims, **param_set)\n",
    "    )"
   ]
  },
  {
   "cell_type": "code",
   "execution_count": null,
   "metadata": {},
   "outputs": [],
   "source": [
    "plot_data = []\n",
    "for i in vol_change:\n",
    "    plot_data.extend([\n",
    "        {\n",
    "            'x': i['int_dist'],\n",
    "            'y': i['vol_change'],\n",
    "            'name': '{}'.format(i['structure_code']),\n",
    "            'mode': 'markers',\n",
    "        },        \n",
    "    ])\n",
    "\n",
    "graph_objects.FigureWidget(\n",
    "    data=plot_data,\n",
    "    layout={\n",
    "        'width': 600,\n",
    "        'height': 500,\n",
    "        'xaxis': {\n",
    "            'title': 'Distance from GB /Ang.',\n",
    "        },\n",
    "        'yaxis': {\n",
    "            'title': 'Change in local volume',\n",
    "        },        \n",
    "    }\n",
    ")"
   ]
  },
  {
   "cell_type": "markdown",
   "metadata": {},
   "source": [
    "### Coordination"
   ]
  },
  {
   "cell_type": "code",
   "execution_count": null,
   "metadata": {},
   "outputs": [],
   "source": [
    "params = [\n",
    "    {'structure_code': 's7-tlA-gb', 'area_threshold': 1},\n",
    "    {'structure_code': 's7-tlB-gb', 'area_threshold': 1},\n",
    "    {'structure_code': 's13-tlA-gb', 'area_threshold': 1},\n",
    "    {'structure_code': 's19-tlA-gb', 'area_threshold': 1},\n",
    "    {'structure_code': 's31-tlA-gb', 'area_threshold': 1},\n",
    "]\n",
    "\n",
    "coord_change_dat = []\n",
    "for param_set in params:\n",
    "    coord_change_dat.append(\n",
    "        get_coordination_change_data(DFT_sims, **param_set)\n",
    "    )"
   ]
  },
  {
   "cell_type": "code",
   "execution_count": null,
   "metadata": {},
   "outputs": [],
   "source": [
    "plot_data = []\n",
    "for i in coord_change_dat:\n",
    "    plot_data.extend([\n",
    "        {\n",
    "            'x': i['int_dist'],\n",
    "            'y': i['coord'],\n",
    "            'name': '{}'.format(i['structure_code']),\n",
    "            'mode': 'markers',\n",
    "        },        \n",
    "    ])\n",
    "\n",
    "graph_objects.FigureWidget(\n",
    "    data=plot_data,\n",
    "    layout={\n",
    "        'width': 600,\n",
    "        'height': 500,\n",
    "        'xaxis': {\n",
    "            'title': 'Distance from GB /Ang.',\n",
    "        },\n",
    "        'yaxis': {\n",
    "            'title': 'Coordination',\n",
    "        },        \n",
    "    }\n",
    ")"
   ]
  }
 ],
 "metadata": {
  "hide_input": false,
  "kernelspec": {
   "display_name": "zr_gb_papers_env",
   "language": "python",
   "name": "zr_gb_papers_env"
  },
  "language_info": {
   "codemirror_mode": {
    "name": "ipython",
    "version": 3
   },
   "file_extension": ".py",
   "mimetype": "text/x-python",
   "name": "python",
   "nbconvert_exporter": "python",
   "pygments_lexer": "ipython3",
   "version": "3.7.3"
  },
  "toc": {
   "base_numbering": 1,
   "nav_menu": {},
   "number_sections": true,
   "sideBar": true,
   "skip_h1_title": false,
   "title_cell": "Table of Contents",
   "title_sidebar": "Contents",
   "toc_cell": false,
   "toc_position": {},
   "toc_section_display": true,
   "toc_window_display": false
  }
 },
 "nbformat": 4,
 "nbformat_minor": 2
}
