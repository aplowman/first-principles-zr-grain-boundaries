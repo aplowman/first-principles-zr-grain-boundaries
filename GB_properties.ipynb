{
 "cells": [
  {
   "cell_type": "markdown",
   "metadata": {},
   "source": [
    "# Pristine Zr GB properties"
   ]
  },
  {
   "cell_type": "code",
   "execution_count": null,
   "metadata": {},
   "outputs": [],
   "source": [
    "from pprint import pprint\n",
    "\n",
    "import numpy as np\n",
    "\n",
    "from utilities import (\n",
    "    load_structures,\n",
    "    get_all_interface_energies,\n",
    "    get_all_wsep,\n",
    "    get_interplanar_spacing_data,\n",
    "    get_local_volume_change_data,\n",
    "    get_coordination_change_data,\n",
    "    get_structural_parameter_data,\n",
    "    get_predicted_GB_widths,\n",
    "    plot_GB_energies,\n",
    "    plot_FS_energies,\n",
    "    plot_works_of_separation,\n",
    "    plot_vol_change,\n",
    "    plot_coordination,\n",
    "    plot_interplanar_spacing_data,\n",
    "    get_binned_structures,\n",
    "    get_atoms_num_electrons_by_voronoi,\n",
    ")"
   ]
  },
  {
   "cell_type": "code",
   "execution_count": null,
   "metadata": {},
   "outputs": [],
   "source": [
    "DFT_sims = load_structures(method=\"DFT\", json_path=\"data/processed/DFT_sims.json\")\n",
    "EAM_sims = load_structures(method=\"EAM\", json_path=\"data/processed/EAM_sims.json\")"
   ]
  },
  {
   "cell_type": "markdown",
   "metadata": {},
   "source": [
    "## Interface energetics"
   ]
  },
  {
   "cell_type": "code",
   "execution_count": null,
   "metadata": {},
   "outputs": [],
   "source": [
    "# DFT predictions:\n",
    "E_GB_DFT = get_all_interface_energies(DFT_sims, 'gb')\n",
    "E_FS_DFT = get_all_interface_energies(DFT_sims, 'fs')\n",
    "\n",
    "W_sep_DFT = get_all_wsep(DFT_sims)\n",
    "\n",
    "# Get pristine W_GB and W_B:\n",
    "W_GB_DFT = {k: v for k, v in W_sep_DFT.items() if len(k.split('-')) == 3 and '-gb' in k}\n",
    "W_B_DFT = {k: v for k, v in W_sep_DFT.items() if len(k.split('-')) == 3 and '-b' in k}\n",
    "\n",
    "# EAM E_GB predictions:\n",
    "E_GB_EAM = get_all_interface_energies(EAM_sims, 'gb')"
   ]
  },
  {
   "cell_type": "markdown",
   "metadata": {},
   "source": [
    "### Grain boundary energy"
   ]
  },
  {
   "cell_type": "code",
   "execution_count": null,
   "metadata": {},
   "outputs": [],
   "source": [
    "plot_GB_energies(DFT_sims, E_GB_DFT)"
   ]
  },
  {
   "cell_type": "markdown",
   "metadata": {},
   "source": [
    "### Surface energy"
   ]
  },
  {
   "cell_type": "code",
   "execution_count": null,
   "metadata": {},
   "outputs": [],
   "source": [
    "plot_FS_energies(DFT_sims, E_FS_DFT)"
   ]
  },
  {
   "cell_type": "markdown",
   "metadata": {},
   "source": [
    "### Work of separation - GB"
   ]
  },
  {
   "cell_type": "code",
   "execution_count": null,
   "metadata": {},
   "outputs": [],
   "source": [
    "plot_works_of_separation(DFT_sims, W_GB_DFT)"
   ]
  },
  {
   "cell_type": "markdown",
   "metadata": {},
   "source": [
    "### Work of separation - Bulk"
   ]
  },
  {
   "cell_type": "code",
   "execution_count": null,
   "metadata": {},
   "outputs": [],
   "source": [
    "plot_works_of_separation(DFT_sims, W_B_DFT)"
   ]
  },
  {
   "cell_type": "markdown",
   "metadata": {},
   "source": [
    "### Compare EAM- with DFT-predicted grain boundary energies"
   ]
  },
  {
   "cell_type": "markdown",
   "metadata": {},
   "source": [
    "For EAM-DFT comparison, we compare grain boundary energies as predicted using the same methodology with both methods, i.e. from the minimum-energy γ-surface translation as predicted by the EAM or DFT methods, instead of the same γ-surface translation for both methods."
   ]
  },
  {
   "cell_type": "code",
   "execution_count": null,
   "metadata": {},
   "outputs": [],
   "source": [
    "E_GB_DFT['s7-tlA-gb'] = E_GB_DFT.pop('s7-tlAMin-gb')"
   ]
  },
  {
   "cell_type": "code",
   "execution_count": null,
   "metadata": {},
   "outputs": [],
   "source": [
    "from utilities import write_manuscript_figure_E_GB_DFT_vs_EAM\n",
    "\n",
    "fig = write_manuscript_figure_E_GB_DFT_vs_EAM(E_GB_EAM, E_GB_DFT, latex_labels=True)"
   ]
  },
  {
   "cell_type": "markdown",
   "metadata": {},
   "source": [
    "## Geometric measures"
   ]
  },
  {
   "cell_type": "code",
   "execution_count": null,
   "metadata": {},
   "outputs": [],
   "source": [
    "struct_params = get_structural_parameter_data()\n",
    "lat_a_DFT, lat_c_DFT = struct_params['lattice_parameters']['dft'].values()\n",
    "lat_a_EAM, lat_c_EAM = struct_params['lattice_parameters']['eam'].values()\n",
    "\n",
    "vol_bulk_DFT = lat_a_DFT ** 2 * np.cos(np.deg2rad(30)) * lat_c_DFT / 2\n",
    "vol_bulk_EAM = lat_a_EAM ** 2 * np.cos(np.deg2rad(30)) * lat_c_EAM / 2"
   ]
  },
  {
   "cell_type": "markdown",
   "metadata": {},
   "source": [
    "### Interplanar spacing"
   ]
  },
  {
   "cell_type": "code",
   "execution_count": null,
   "metadata": {},
   "outputs": [],
   "source": [
    "params = [\n",
    "    {'structure_code': 's7-tlA-gb', 'step': 2, 'add_one': False, 'bulk_val': 1.05779},\n",
    "    {'structure_code': 's7-tlB-gb', 'step': 2, 'add_one': False, 'bulk_val': 0.610715},\n",
    "    {'structure_code': 's13-tlA-gb', 'step': 2, 'add_one': False, 'bulk_val': 0.7762077},\n",
    "    {'structure_code': 's19-tlA-gb', 'step': 2, 'add_one': False, 'bulk_val': 0.642054},\n",
    "    {'structure_code': 's31-tlA-gb', 'step': 2, 'add_one': False, 'bulk_val': 0.502652},\n",
    "    {'structure_code': 's7-tw-gb', 'step': 1, 'add_one': True, 'bulk_val': lat_c_DFT/2, 'average_by': 7},\n",
    "    {'structure_code': 's13-tw-gb', 'step': 1, 'add_one': True, 'bulk_val': lat_c_DFT/2, 'average_by': 13},\n",
    "    {'structure_code': 's19-tw-gb', 'step': 1, 'add_one': True, 'bulk_val': lat_c_DFT/2, 'average_by': 19},\n",
    "]\n",
    "\n",
    "int_spacing_data_DFT = [get_interplanar_spacing_data(DFT_sims, **i) for i in params]\n",
    "int_spacing_data_EAM = [get_interplanar_spacing_data(EAM_sims, **i) for i in params]"
   ]
  },
  {
   "cell_type": "code",
   "execution_count": null,
   "metadata": {},
   "outputs": [],
   "source": [
    "plot_interplanar_spacing_data(int_spacing_data_DFT)"
   ]
  },
  {
   "cell_type": "code",
   "execution_count": null,
   "metadata": {},
   "outputs": [],
   "source": [
    "plot_interplanar_spacing_data(int_spacing_data_EAM)"
   ]
  },
  {
   "cell_type": "markdown",
   "metadata": {},
   "source": [
    "#### Manuscript figures"
   ]
  },
  {
   "cell_type": "code",
   "execution_count": null,
   "metadata": {},
   "outputs": [],
   "source": [
    "from utilities import write_manuscript_figures_interplanar_spacing\n",
    "\n",
    "figs = write_manuscript_figures_interplanar_spacing(DFT_sims, int_spacing_data_DFT, int_spacing_data_EAM)"
   ]
  },
  {
   "cell_type": "markdown",
   "metadata": {},
   "source": [
    "### Change in local atomic volume"
   ]
  },
  {
   "cell_type": "code",
   "execution_count": null,
   "metadata": {},
   "outputs": [],
   "source": [
    "structure_codes = (\n",
    "    's7-tlA-gb',\n",
    "    's7-tlB-gb',\n",
    "    's13-tlA-gb',\n",
    "    's19-tlA-gb',\n",
    "    's31-tlA-gb',\n",
    "    's7-tw-gb',\n",
    "    's13-tw-gb',\n",
    "    's19-tw-gb',\n",
    ")\n",
    "vol_change_DFT = [\n",
    "    get_local_volume_change_data(DFT_sims, structure_code=i, vol_bulk=vol_bulk_DFT)\n",
    "    for i in structure_codes\n",
    "]\n",
    "vol_change_EAM = [\n",
    "    get_local_volume_change_data(EAM_sims, structure_code=i, vol_bulk=vol_bulk_EAM)\n",
    "    for i in structure_codes\n",
    "]"
   ]
  },
  {
   "cell_type": "code",
   "execution_count": null,
   "metadata": {},
   "outputs": [],
   "source": [
    "plot_vol_change(vol_change_DFT)"
   ]
  },
  {
   "cell_type": "code",
   "execution_count": null,
   "metadata": {},
   "outputs": [],
   "source": [
    "plot_vol_change(vol_change_EAM)"
   ]
  },
  {
   "cell_type": "markdown",
   "metadata": {},
   "source": [
    "#### Predicted GB widths"
   ]
  },
  {
   "cell_type": "code",
   "execution_count": null,
   "metadata": {},
   "outputs": [],
   "source": [
    "GB_widths_DFT, GB_widths_EAM = get_predicted_GB_widths(DFT_sims, vol_change_DFT, vol_change_EAM)\n",
    "\n",
    "print('GB widths, lower and upper limits (DFT):')\n",
    "pprint(GB_widths_DFT)\n",
    "\n",
    "print('\\nGB widths, lower and upper limits (EAM):')\n",
    "pprint(GB_widths_DFT)"
   ]
  },
  {
   "cell_type": "markdown",
   "metadata": {},
   "source": [
    "#### Manuscript figures"
   ]
  },
  {
   "cell_type": "code",
   "execution_count": null,
   "metadata": {},
   "outputs": [],
   "source": [
    "from utilities import write_manuscript_figures_volume_change\n",
    "\n",
    "figs = write_manuscript_figures_volume_change(DFT_sims, vol_change_DFT, vol_change_EAM)"
   ]
  },
  {
   "cell_type": "markdown",
   "metadata": {},
   "source": [
    "### Coordination"
   ]
  },
  {
   "cell_type": "code",
   "execution_count": null,
   "metadata": {},
   "outputs": [],
   "source": [
    "AREA_THRESHOLD = 1\n",
    "structure_codes = (\n",
    "    's7-tlA-gb',\n",
    "    's7-tlB-gb',\n",
    "    's13-tlA-gb',\n",
    "    's19-tlA-gb',\n",
    "    's31-tlA-gb',\n",
    "    's7-tw-gb', \n",
    "    's13-tw-gb',\n",
    "    's19-tw-gb',\n",
    ")\n",
    "coord_change_dat_DFT = [\n",
    "    get_coordination_change_data(DFT_sims, structure_code=i, area_threshold=AREA_THRESHOLD)\n",
    "    for i in structure_codes\n",
    "]\n",
    "coord_change_dat_EAM = [\n",
    "    get_coordination_change_data(EAM_sims, structure_code=i, area_threshold=AREA_THRESHOLD)\n",
    "    for i in structure_codes\n",
    "]"
   ]
  },
  {
   "cell_type": "code",
   "execution_count": null,
   "metadata": {},
   "outputs": [],
   "source": [
    "plot_coordination(coord_change_dat_DFT)"
   ]
  },
  {
   "cell_type": "code",
   "execution_count": null,
   "metadata": {},
   "outputs": [],
   "source": [
    "plot_coordination(coord_change_dat_EAM)"
   ]
  },
  {
   "cell_type": "markdown",
   "metadata": {},
   "source": [
    "#### Manuscript figures"
   ]
  },
  {
   "cell_type": "code",
   "execution_count": null,
   "metadata": {},
   "outputs": [],
   "source": [
    "from utilities import write_manuscript_figures_coordination\n",
    "\n",
    "figs = write_manuscript_figures_coordination(DFT_sims, coord_change_dat_DFT, coord_change_dat_EAM)"
   ]
  },
  {
   "cell_type": "markdown",
   "metadata": {},
   "source": [
    "### Charge density analysis"
   ]
  },
  {
   "cell_type": "code",
   "execution_count": null,
   "metadata": {},
   "outputs": [],
   "source": [
    "# Note:\n",
    "#   - Binning the charge density in all structures below may take at least 30 minutes\n",
    "#   - Binder may not have enough memory to bin all structures.\n",
    "\n",
    "structure_codes = (\n",
    "    's7-tlA-gb',\n",
    "    's7-tlA-b',\n",
    "    # 's7-tlB-gb',\n",
    "    # 's7-tlB-b',\n",
    "    # 's13-tlA-gb',\n",
    "    # 's13-tlA-b',\n",
    "    # 's19-tlA-gb',\n",
    "    # 's19-tlA-b',\n",
    "    # 's31-tlA-gb',\n",
    "    # 's31-tlA-b', \n",
    "    # 's7-tw-gb',\n",
    "    # 's7-tw-b',\n",
    "    # 's13-tw-gb',\n",
    "    # 's13-tw-b',\n",
    "    # 's19-tw-gb',\n",
    "    # 's19-tw-b',\n",
    ")\n",
    "binned_structs = get_binned_structures(structure_codes)"
   ]
  },
  {
   "cell_type": "code",
   "execution_count": null,
   "metadata": {},
   "outputs": [],
   "source": [
    "# Find the value of `-min(Δnₑ)`\n",
    "system_codes = set('-'.join(i.split('-')[:-1]) for i in binned_structs)\n",
    "for i in system_codes:\n",
    "    neg_min_dne = -np.min(\n",
    "        np.array(list(get_atoms_num_electrons_by_voronoi(binned_structs[f'{i}-gb']).values()))\n",
    "        - np.array(list(get_atoms_num_electrons_by_voronoi(binned_structs[f'{i}-b']).values()))\n",
    "    )\n",
    "    print(f'{i}: {neg_min_dne}')"
   ]
  },
  {
   "cell_type": "code",
   "execution_count": null,
   "metadata": {},
   "outputs": [],
   "source": []
  }
 ],
 "metadata": {
  "hide_input": false,
  "interpreter": {
   "hash": "c775c1e6b3eb5e71267bf5e16cde787343ccf7d7636bba966b077c32ed40a4ad"
  },
  "kernelspec": {
   "display_name": "Python [conda env:zr_gb_papers_env]",
   "language": "python",
   "name": "python3"
  },
  "language_info": {
   "codemirror_mode": {
    "name": "ipython",
    "version": 3
   },
   "file_extension": ".py",
   "mimetype": "text/x-python",
   "name": "python",
   "nbconvert_exporter": "python",
   "pygments_lexer": "ipython3",
   "version": "3.7.6"
  },
  "toc": {
   "base_numbering": 1,
   "nav_menu": {},
   "number_sections": true,
   "sideBar": true,
   "skip_h1_title": false,
   "title_cell": "Table of Contents",
   "title_sidebar": "Contents",
   "toc_cell": false,
   "toc_position": {},
   "toc_section_display": true,
   "toc_window_display": false
  }
 },
 "nbformat": 4,
 "nbformat_minor": 4
}
